{
 "cells": [
  {
   "cell_type": "markdown",
   "metadata": {},
   "source": [
    "I don't know how, but at some point in my life I got it in my head that baseball does not have a significant advantage for the home team.  I had heard there were sports where it plays a huge part (the NFL for example) but it was all hearsay.  Baseball for me just always felt immune to it.  I guess when even the best teams have winning percentages barely over .500 through 162 games, there was an air of randomness for any given baseball game.  \n",
    "<!-- TEASER_END -->\n",
    "The best teams are the ones that can persist through a long, arduous 162 game season.  I mean, that's the logic for a 7 game series, right? Increase the sample size.  So, I was talking with my recently-converted-from-cricket-to-baseball-fanatic friend who told me he looked at all the games from 2000 to present day.  The home team won 54% of the time!  I mean, thats a pretty large sample size and he gave me a very convincing p-value.  But, c'mon, there's probably got to be some other reason for it, right?  I mean his sample was biased, for sure!  He only looked at seasons in recent history.  Technology in recent years has probably allowed for innumerable methods for the home team to cheat.  Tiny cameras in the batter's eye relaying signs to the dugout. Managers communicating these signs to the headpiece installed in the hitter's helmet.  Visiting team bat boys acting as spies, collecting intelligence and rearranging sunflower seed stashes as a type of psychological warfare.  I mean one time I saw the Phillie Phanatic win the affection of the 3rd base umpire so much so that they broke out into a dance number in the middle of the 6th!  Iggy the Iguana once swallowed an umpire whole! (__Figure 1.__)  \n",
    "\n",
    "<center><img src=../../images/iggy.jpg></center>\n",
    "<center><b>Figure 1.</b> Home field Advantage.</center>\n",
    "\n",
    "My point is that the significance he saw is due to recent changes in the game. Surely, I would still be right. It's the nature of baseball; advantages like home field don't exist.  Given a large enough sample size, the winner is the better team.  I decided to look at the home team advantage since the beginning of baseball.  I downloaded the information from [retrosheet.org](http://www.retrosheet.org/) and stored it in a folder called `seasons`.  Each file is a named by season with the prefix GL for Game Log.  I used the Python module [`glob`](https://docs.python.org/2/library/glob.html) to aggregate them all.  "
   ]
  },
  {
   "cell_type": "code",
   "execution_count": 1,
   "metadata": {
    "collapsed": true
   },
   "outputs": [],
   "source": [
    "import pandas as pd\n",
    "import glob"
   ]
  },
  {
   "cell_type": "code",
   "execution_count": 2,
   "metadata": {},
   "outputs": [],
   "source": [
    "seasons_names = glob.glob('seasons/GL*.TXT')"
   ]
  },
  {
   "cell_type": "code",
   "execution_count": 3,
   "metadata": {},
   "outputs": [],
   "source": [
    "import re\n",
    "years = [int(re.findall('\\d+', filename)[0]) for filename in seasons_names]"
   ]
  },
  {
   "cell_type": "code",
   "execution_count": 4,
   "metadata": {},
   "outputs": [],
   "source": [
    "seasons = [pd.read_csv(season, index_col=0, header=None) for season in seasons_names]"
   ]
  },
  {
   "cell_type": "markdown",
   "metadata": {},
   "source": [
    "Each game log file is a comma-separated file with each column representing a particular piece of game information (home team, stadium, etc.), all of which can be found [here](http://www.retrosheet.org/gamelogs/glfields.txt).  In this analysis, I simply walked through each season and counted the number of times the home team won and the number of times the visiting team won.  Apparently, there have been a number of ties in throughout the years.  I ignored these results.  "
   ]
  },
  {
   "cell_type": "code",
   "execution_count": 5,
   "metadata": {},
   "outputs": [],
   "source": [
    "# column 9 is visiting team score, 10 is home\n",
    "wins_by_year = []\n",
    "for season in seasons:\n",
    "    home_team_wins = 0\n",
    "    visiting_team_wins = 0\n",
    "    for game, info in season.iterrows():\n",
    "        # ignore ties\n",
    "        if info[9] != info[10]:\n",
    "            home_team_wins += int(info[9] < info[10])\n",
    "            visiting_team_wins += int(info[9] > info[10])\n",
    "    wins_by_year.append((home_team_wins, visiting_team_wins))"
   ]
  },
  {
   "cell_type": "markdown",
   "metadata": {},
   "source": [
    "To get an idea of some sort of trend, I calculated an average of the previous five years and the next five for each season where applicable.  "
   ]
  },
  {
   "cell_type": "code",
   "execution_count": 6,
   "metadata": {
    "collapsed": true
   },
   "outputs": [],
   "source": [
    "def calc_average(years) -> list:\n",
    "    \"\"\" calculate a the average winning percentage from a list of home, away scores \"\"\"\n",
    "    winnnig_percent = [year[0]/sum(year) for year in years]\n",
    "    return sum(winnnig_percent) / len(winnnig_percent)"
   ]
  },
  {
   "cell_type": "code",
   "execution_count": 7,
   "metadata": {
    "scrolled": false
   },
   "outputs": [],
   "source": [
    "ten_yr_avg = []\n",
    "for i in range(5, len(wins_by_year)-5):\n",
    "    ten_yr_avg.append(calc_average(wins_by_year[i-5:i+5]))"
   ]
  },
  {
   "cell_type": "markdown",
   "metadata": {},
   "source": [
    "As always, I used [bokeh](http://bokeh.pydata.org/en/latest/) to plot the data."
   ]
  },
  {
   "cell_type": "code",
   "execution_count": 8,
   "metadata": {},
   "outputs": [
    {
     "data": {
      "text/html": [
       "\n",
       "    <div class=\"bk-root\">\n",
       "        <a href=\"http://bokeh.pydata.org\" target=\"_blank\" class=\"bk-logo bk-logo-small bk-logo-notebook\"></a>\n",
       "        <span id=\"14f14c36-ba97-406c-ac30-bc5e7b9cd6dc\">Loading BokehJS ...</span>\n",
       "    </div>"
      ]
     },
     "metadata": {},
     "output_type": "display_data"
    },
    {
     "data": {
      "application/javascript": [
       "\n",
       "(function(global) {\n",
       "  function now() {\n",
       "    return new Date();\n",
       "  }\n",
       "\n",
       "  var force = \"1\";\n",
       "\n",
       "  if (typeof (window._bokeh_onload_callbacks) === \"undefined\" || force !== \"\") {\n",
       "    window._bokeh_onload_callbacks = [];\n",
       "    window._bokeh_is_loading = undefined;\n",
       "  }\n",
       "\n",
       "\n",
       "  \n",
       "  if (typeof (window._bokeh_timeout) === \"undefined\" || force !== \"\") {\n",
       "    window._bokeh_timeout = Date.now() + 5000;\n",
       "    window._bokeh_failed_load = false;\n",
       "  }\n",
       "\n",
       "  var NB_LOAD_WARNING = {'data': {'text/html':\n",
       "     \"<div style='background-color: #fdd'>\\n\"+\n",
       "     \"<p>\\n\"+\n",
       "     \"BokehJS does not appear to have successfully loaded. If loading BokehJS from CDN, this \\n\"+\n",
       "     \"may be due to a slow or bad network connection. Possible fixes:\\n\"+\n",
       "     \"</p>\\n\"+\n",
       "     \"<ul>\\n\"+\n",
       "     \"<li>re-rerun `output_notebook()` to attempt to load from CDN again, or</li>\\n\"+\n",
       "     \"<li>use INLINE resources instead, as so:</li>\\n\"+\n",
       "     \"</ul>\\n\"+\n",
       "     \"<code>\\n\"+\n",
       "     \"from bokeh.resources import INLINE\\n\"+\n",
       "     \"output_notebook(resources=INLINE)\\n\"+\n",
       "     \"</code>\\n\"+\n",
       "     \"</div>\"}};\n",
       "\n",
       "  function display_loaded() {\n",
       "    if (window.Bokeh !== undefined) {\n",
       "      Bokeh.$(\"#14f14c36-ba97-406c-ac30-bc5e7b9cd6dc\").text(\"BokehJS successfully loaded.\");\n",
       "    } else if (Date.now() < window._bokeh_timeout) {\n",
       "      setTimeout(display_loaded, 100)\n",
       "    }\n",
       "  }\n",
       "\n",
       "  function run_callbacks() {\n",
       "    window._bokeh_onload_callbacks.forEach(function(callback) { callback() });\n",
       "    delete window._bokeh_onload_callbacks\n",
       "    console.info(\"Bokeh: all callbacks have finished\");\n",
       "  }\n",
       "\n",
       "  function load_libs(js_urls, callback) {\n",
       "    window._bokeh_onload_callbacks.push(callback);\n",
       "    if (window._bokeh_is_loading > 0) {\n",
       "      console.log(\"Bokeh: BokehJS is being loaded, scheduling callback at\", now());\n",
       "      return null;\n",
       "    }\n",
       "    if (js_urls == null || js_urls.length === 0) {\n",
       "      run_callbacks();\n",
       "      return null;\n",
       "    }\n",
       "    console.log(\"Bokeh: BokehJS not loaded, scheduling load and callback at\", now());\n",
       "    window._bokeh_is_loading = js_urls.length;\n",
       "    for (var i = 0; i < js_urls.length; i++) {\n",
       "      var url = js_urls[i];\n",
       "      var s = document.createElement('script');\n",
       "      s.src = url;\n",
       "      s.async = false;\n",
       "      s.onreadystatechange = s.onload = function() {\n",
       "        window._bokeh_is_loading--;\n",
       "        if (window._bokeh_is_loading === 0) {\n",
       "          console.log(\"Bokeh: all BokehJS libraries loaded\");\n",
       "          run_callbacks()\n",
       "        }\n",
       "      };\n",
       "      s.onerror = function() {\n",
       "        console.warn(\"failed to load library \" + url);\n",
       "      };\n",
       "      console.log(\"Bokeh: injecting script tag for BokehJS library: \", url);\n",
       "      document.getElementsByTagName(\"head\")[0].appendChild(s);\n",
       "    }\n",
       "  };var element = document.getElementById(\"14f14c36-ba97-406c-ac30-bc5e7b9cd6dc\");\n",
       "  if (element == null) {\n",
       "    console.log(\"Bokeh: ERROR: autoload.js configured with elementid '14f14c36-ba97-406c-ac30-bc5e7b9cd6dc' but no matching script tag was found. \")\n",
       "    return false;\n",
       "  }\n",
       "\n",
       "  var js_urls = ['https://cdn.pydata.org/bokeh/release/bokeh-0.12.3.min.js', 'https://cdn.pydata.org/bokeh/release/bokeh-widgets-0.12.3.min.js'];\n",
       "\n",
       "  var inline_js = [\n",
       "    function(Bokeh) {\n",
       "      Bokeh.set_log_level(\"info\");\n",
       "    },\n",
       "    \n",
       "    function(Bokeh) {\n",
       "      \n",
       "      Bokeh.$(\"#14f14c36-ba97-406c-ac30-bc5e7b9cd6dc\").text(\"BokehJS is loading...\");\n",
       "    },\n",
       "    function(Bokeh) {\n",
       "      console.log(\"Bokeh: injecting CSS: https://cdn.pydata.org/bokeh/release/bokeh-0.12.3.min.css\");\n",
       "      Bokeh.embed.inject_css(\"https://cdn.pydata.org/bokeh/release/bokeh-0.12.3.min.css\");\n",
       "      console.log(\"Bokeh: injecting CSS: https://cdn.pydata.org/bokeh/release/bokeh-widgets-0.12.3.min.css\");\n",
       "      Bokeh.embed.inject_css(\"https://cdn.pydata.org/bokeh/release/bokeh-widgets-0.12.3.min.css\");\n",
       "    }\n",
       "  ];\n",
       "\n",
       "  function run_inline_js() {\n",
       "    \n",
       "    if ((window.Bokeh !== undefined) || (force === \"1\")) {\n",
       "      for (var i = 0; i < inline_js.length; i++) {\n",
       "        inline_js[i](window.Bokeh);\n",
       "      }if (force === \"1\") {\n",
       "        display_loaded();\n",
       "      }} else if (Date.now() < window._bokeh_timeout) {\n",
       "      setTimeout(run_inline_js, 100);\n",
       "    } else if (!window._bokeh_failed_load) {\n",
       "      console.log(\"Bokeh: BokehJS failed to load within specified timeout.\");\n",
       "      window._bokeh_failed_load = true;\n",
       "    } else if (!force) {\n",
       "      var cell = $(\"#14f14c36-ba97-406c-ac30-bc5e7b9cd6dc\").parents('.cell').data().cell;\n",
       "      cell.output_area.append_execute_result(NB_LOAD_WARNING)\n",
       "    }\n",
       "\n",
       "  }\n",
       "\n",
       "  if (window._bokeh_is_loading === 0) {\n",
       "    console.log(\"Bokeh: BokehJS loaded, going straight to plotting\");\n",
       "    run_inline_js();\n",
       "  } else {\n",
       "    load_libs(js_urls, function() {\n",
       "      console.log(\"Bokeh: BokehJS plotting callback run at\", now());\n",
       "      run_inline_js();\n",
       "    });\n",
       "  }\n",
       "}(this));"
      ]
     },
     "metadata": {},
     "output_type": "display_data"
    }
   ],
   "source": [
    "from bokeh.plotting import figure, show, output_notebook\n",
    "\n",
    "output_notebook()"
   ]
  },
  {
   "cell_type": "markdown",
   "metadata": {},
   "source": [
    "For every season, I used the [SciPy's](https://www.scipy.org/) [binomial test](https://en.wikipedia.org/wiki/Binomial_test) to test if the difference in home vs. away wins was statistically significant for that particular year.  A red dot means the value was significant (p < 0.05)."
   ]
  },
  {
   "cell_type": "code",
   "execution_count": 9,
   "metadata": {
    "collapsed": true
   },
   "outputs": [],
   "source": [
    "from scipy.stats import binom_test"
   ]
  },
  {
   "cell_type": "code",
   "execution_count": 10,
   "metadata": {},
   "outputs": [
    {
     "data": {
      "text/html": [
       "\n",
       "\n",
       "    <div class=\"bk-root\">\n",
       "        <div class=\"plotdiv\" id=\"fc142816-1f7c-4435-b00d-308d3b45650f\"></div>\n",
       "    </div>\n",
       "<script type=\"text/javascript\">\n",
       "  \n",
       "  (function(global) {\n",
       "    function now() {\n",
       "      return new Date();\n",
       "    }\n",
       "  \n",
       "    var force = \"\";\n",
       "  \n",
       "    if (typeof (window._bokeh_onload_callbacks) === \"undefined\" || force !== \"\") {\n",
       "      window._bokeh_onload_callbacks = [];\n",
       "      window._bokeh_is_loading = undefined;\n",
       "    }\n",
       "  \n",
       "  \n",
       "    \n",
       "    if (typeof (window._bokeh_timeout) === \"undefined\" || force !== \"\") {\n",
       "      window._bokeh_timeout = Date.now() + 0;\n",
       "      window._bokeh_failed_load = false;\n",
       "    }\n",
       "  \n",
       "    var NB_LOAD_WARNING = {'data': {'text/html':\n",
       "       \"<div style='background-color: #fdd'>\\n\"+\n",
       "       \"<p>\\n\"+\n",
       "       \"BokehJS does not appear to have successfully loaded. If loading BokehJS from CDN, this \\n\"+\n",
       "       \"may be due to a slow or bad network connection. Possible fixes:\\n\"+\n",
       "       \"</p>\\n\"+\n",
       "       \"<ul>\\n\"+\n",
       "       \"<li>re-rerun `output_notebook()` to attempt to load from CDN again, or</li>\\n\"+\n",
       "       \"<li>use INLINE resources instead, as so:</li>\\n\"+\n",
       "       \"</ul>\\n\"+\n",
       "       \"<code>\\n\"+\n",
       "       \"from bokeh.resources import INLINE\\n\"+\n",
       "       \"output_notebook(resources=INLINE)\\n\"+\n",
       "       \"</code>\\n\"+\n",
       "       \"</div>\"}};\n",
       "  \n",
       "    function display_loaded() {\n",
       "      if (window.Bokeh !== undefined) {\n",
       "        Bokeh.$(\"#fc142816-1f7c-4435-b00d-308d3b45650f\").text(\"BokehJS successfully loaded.\");\n",
       "      } else if (Date.now() < window._bokeh_timeout) {\n",
       "        setTimeout(display_loaded, 100)\n",
       "      }\n",
       "    }\n",
       "  \n",
       "    function run_callbacks() {\n",
       "      window._bokeh_onload_callbacks.forEach(function(callback) { callback() });\n",
       "      delete window._bokeh_onload_callbacks\n",
       "      console.info(\"Bokeh: all callbacks have finished\");\n",
       "    }\n",
       "  \n",
       "    function load_libs(js_urls, callback) {\n",
       "      window._bokeh_onload_callbacks.push(callback);\n",
       "      if (window._bokeh_is_loading > 0) {\n",
       "        console.log(\"Bokeh: BokehJS is being loaded, scheduling callback at\", now());\n",
       "        return null;\n",
       "      }\n",
       "      if (js_urls == null || js_urls.length === 0) {\n",
       "        run_callbacks();\n",
       "        return null;\n",
       "      }\n",
       "      console.log(\"Bokeh: BokehJS not loaded, scheduling load and callback at\", now());\n",
       "      window._bokeh_is_loading = js_urls.length;\n",
       "      for (var i = 0; i < js_urls.length; i++) {\n",
       "        var url = js_urls[i];\n",
       "        var s = document.createElement('script');\n",
       "        s.src = url;\n",
       "        s.async = false;\n",
       "        s.onreadystatechange = s.onload = function() {\n",
       "          window._bokeh_is_loading--;\n",
       "          if (window._bokeh_is_loading === 0) {\n",
       "            console.log(\"Bokeh: all BokehJS libraries loaded\");\n",
       "            run_callbacks()\n",
       "          }\n",
       "        };\n",
       "        s.onerror = function() {\n",
       "          console.warn(\"failed to load library \" + url);\n",
       "        };\n",
       "        console.log(\"Bokeh: injecting script tag for BokehJS library: \", url);\n",
       "        document.getElementsByTagName(\"head\")[0].appendChild(s);\n",
       "      }\n",
       "    };var element = document.getElementById(\"fc142816-1f7c-4435-b00d-308d3b45650f\");\n",
       "    if (element == null) {\n",
       "      console.log(\"Bokeh: ERROR: autoload.js configured with elementid 'fc142816-1f7c-4435-b00d-308d3b45650f' but no matching script tag was found. \")\n",
       "      return false;\n",
       "    }\n",
       "  \n",
       "    var js_urls = [];\n",
       "  \n",
       "    var inline_js = [\n",
       "      function(Bokeh) {\n",
       "        Bokeh.$(function() {\n",
       "            var docs_json = {\"007afbbf-5cdc-4354-96b4-ee0d050130bc\":{\"roots\":{\"references\":[{\"attributes\":{\"dimension\":1,\"plot\":{\"id\":\"fd952bc1-2dc1-4884-b337-eb55b15c72e0\",\"subtype\":\"Figure\",\"type\":\"Plot\"},\"ticker\":{\"id\":\"8509fc68-4832-4295-b92b-d9baa6ede474\",\"type\":\"BasicTicker\"}},\"id\":\"b96371a5-9f7a-4193-97a3-048edb3c2970\",\"type\":\"Grid\"},{\"attributes\":{\"fill_alpha\":{\"value\":0.1},\"fill_color\":{\"value\":\"#1f77b4\"},\"line_alpha\":{\"value\":0.1},\"line_color\":{\"value\":\"#1f77b4\"},\"x\":{\"field\":\"x\"},\"y\":{\"field\":\"y\"}},\"id\":\"1deb972d-20c7-485c-af3c-7af945f710d7\",\"type\":\"Patch\"},{\"attributes\":{\"callback\":null},\"id\":\"a6141214-9a20-4c71-9b5a-59c18c6cd72e\",\"type\":\"Range1d\"},{\"attributes\":{\"plot\":{\"id\":\"fd952bc1-2dc1-4884-b337-eb55b15c72e0\",\"subtype\":\"Figure\",\"type\":\"Plot\"}},\"id\":\"382327dc-a10a-44a9-9baf-d1586e9125e2\",\"type\":\"PanTool\"},{\"attributes\":{\"fill_color\":{\"field\":\"fill_color\"},\"line_color\":{\"field\":\"line_color\"},\"x\":{\"field\":\"x\"},\"y\":{\"field\":\"y\"}},\"id\":\"b4b6fa0e-df90-46ea-b5ce-bccf98cc192f\",\"type\":\"Circle\"},{\"attributes\":{\"fill_alpha\":{\"value\":0.1},\"fill_color\":{\"value\":\"#1f77b4\"},\"line_alpha\":{\"value\":0.1},\"line_color\":{\"value\":\"#1f77b4\"},\"x\":{\"field\":\"x\"},\"y\":{\"field\":\"y\"}},\"id\":\"274fdef7-c973-4e19-8e8c-463aff228c6f\",\"type\":\"Patch\"},{\"attributes\":{\"label\":{\"value\":\"ten year average\"},\"renderers\":[{\"id\":\"5ccd0ace-0d39-424d-8441-08fd81bc49a7\",\"type\":\"GlyphRenderer\"}]},\"id\":\"c7f04914-759e-4a14-b6b1-108e37dd4495\",\"type\":\"LegendItem\"},{\"attributes\":{\"items\":[{\"id\":\"409422ae-1ae2-439f-b3c1-4ba6f2fac7d5\",\"type\":\"LegendItem\"},{\"id\":\"bc876406-905b-4227-a471-a56ad582ffc8\",\"type\":\"LegendItem\"},{\"id\":\"c7f04914-759e-4a14-b6b1-108e37dd4495\",\"type\":\"LegendItem\"}],\"plot\":{\"id\":\"fd952bc1-2dc1-4884-b337-eb55b15c72e0\",\"subtype\":\"Figure\",\"type\":\"Plot\"}},\"id\":\"5dc987a9-702f-4b93-86af-198436479995\",\"type\":\"Legend\"},{\"attributes\":{\"callback\":null,\"end\":2016,\"start\":1871},\"id\":\"37fc2636-f4e7-47b3-abed-77f73070a626\",\"type\":\"Range1d\"},{\"attributes\":{\"data_source\":{\"id\":\"a46b59b5-f58c-4234-899a-f5228ff567b5\",\"type\":\"ColumnDataSource\"},\"glyph\":{\"id\":\"709868de-ba06-4009-a782-de80fc8a4678\",\"type\":\"Line\"},\"hover_glyph\":null,\"nonselection_glyph\":{\"id\":\"c8aab911-7efd-4454-a627-7c5c92e77203\",\"type\":\"Line\"},\"selection_glyph\":null},\"id\":\"381abccd-073c-4532-9edf-ef9e86c4157f\",\"type\":\"GlyphRenderer\"},{\"attributes\":{\"data_source\":{\"id\":\"1dc870aa-baab-41b6-b3a7-f0bca724bcfa\",\"type\":\"ColumnDataSource\"},\"glyph\":{\"id\":\"65f7783d-77c3-48c4-97e4-e657e6592c14\",\"type\":\"Line\"},\"hover_glyph\":null,\"nonselection_glyph\":{\"id\":\"aa072863-c07e-4a32-a9e8-d081e8d54ecf\",\"type\":\"Line\"},\"selection_glyph\":null},\"id\":\"5ccd0ace-0d39-424d-8441-08fd81bc49a7\",\"type\":\"GlyphRenderer\"},{\"attributes\":{},\"id\":\"d49a7b3f-f202-408a-bb0f-aa98b27c8646\",\"type\":\"ToolEvents\"},{\"attributes\":{},\"id\":\"1612d939-f06b-4633-b849-bd62eaa104a0\",\"type\":\"BasicTickFormatter\"},{\"attributes\":{\"line_alpha\":{\"value\":0.1},\"line_color\":{\"value\":\"#1f77b4\"},\"line_dash\":[6],\"line_width\":{\"value\":2},\"x\":{\"field\":\"x\"},\"y\":{\"field\":\"y\"}},\"id\":\"aa072863-c07e-4a32-a9e8-d081e8d54ecf\",\"type\":\"Line\"},{\"attributes\":{\"data_source\":{\"id\":\"1a682cdf-3e10-45e4-ae28-d899f6e2661c\",\"type\":\"ColumnDataSource\"},\"glyph\":{\"id\":\"8abb52ae-4fa7-4033-b895-1e6c134992c9\",\"type\":\"Patch\"},\"hover_glyph\":null,\"nonselection_glyph\":{\"id\":\"274fdef7-c973-4e19-8e8c-463aff228c6f\",\"type\":\"Patch\"},\"selection_glyph\":null},\"id\":\"6c1bc8d8-0031-42ae-8b41-3e7e93f6da7a\",\"type\":\"GlyphRenderer\"},{\"attributes\":{\"callback\":null,\"column_names\":[\"x\",\"y\",\"line_color\",\"fill_color\"],\"data\":{\"fill_color\":[\"blue\",\"red\",\"red\",\"red\",\"blue\",\"blue\",\"red\",\"blue\",\"blue\",\"red\",\"blue\",\"red\",\"red\",\"red\",\"red\",\"red\",\"red\",\"red\",\"red\",\"red\",\"red\",\"red\",\"red\",\"red\",\"red\",\"red\",\"red\",\"red\",\"red\",\"red\",\"red\",\"red\",\"red\",\"red\",\"red\",\"red\",\"red\",\"red\",\"red\",\"red\",\"blue\",\"blue\",\"blue\",\"red\",\"red\",\"red\",\"blue\",\"red\",\"red\",\"red\",\"red\",\"red\",\"blue\",\"red\",\"red\",\"red\",\"red\",\"blue\",\"red\",\"red\",\"red\",\"red\",\"red\",\"red\",\"red\",\"red\",\"red\",\"red\",\"red\",\"red\",\"red\",\"red\",\"red\",\"red\",\"red\",\"red\",\"red\",\"blue\",\"red\",\"red\",\"blue\",\"red\",\"blue\",\"red\",\"red\",\"red\",\"blue\",\"red\",\"red\",\"red\",\"red\",\"red\",\"red\",\"red\",\"red\",\"red\",\"red\",\"blue\",\"red\",\"red\",\"blue\",\"red\",\"red\",\"red\",\"red\",\"red\",\"red\",\"red\",\"red\",\"red\",\"blue\",\"red\",\"red\",\"red\",\"red\",\"red\",\"red\",\"red\",\"red\",\"red\",\"red\",\"red\",\"red\",\"blue\",\"red\",\"red\",\"red\",\"red\",\"red\",\"red\",\"red\",\"red\",\"red\",\"red\",\"red\",\"red\",\"red\",\"red\",\"red\",\"red\",\"red\",\"red\",\"red\",\"red\",\"red\"],\"line_color\":[\"blue\",\"red\",\"red\",\"red\",\"blue\",\"blue\",\"red\",\"blue\",\"blue\",\"red\",\"blue\",\"red\",\"red\",\"red\",\"red\",\"red\",\"red\",\"red\",\"red\",\"red\",\"red\",\"red\",\"red\",\"red\",\"red\",\"red\",\"red\",\"red\",\"red\",\"red\",\"red\",\"red\",\"red\",\"red\",\"red\",\"red\",\"red\",\"red\",\"red\",\"red\",\"blue\",\"blue\",\"blue\",\"red\",\"red\",\"red\",\"blue\",\"red\",\"red\",\"red\",\"red\",\"red\",\"blue\",\"red\",\"red\",\"red\",\"red\",\"blue\",\"red\",\"red\",\"red\",\"red\",\"red\",\"red\",\"red\",\"red\",\"red\",\"red\",\"red\",\"red\",\"red\",\"red\",\"red\",\"red\",\"red\",\"red\",\"red\",\"blue\",\"red\",\"red\",\"blue\",\"red\",\"blue\",\"red\",\"red\",\"red\",\"blue\",\"red\",\"red\",\"red\",\"red\",\"red\",\"red\",\"red\",\"red\",\"red\",\"red\",\"blue\",\"red\",\"red\",\"blue\",\"red\",\"red\",\"red\",\"red\",\"red\",\"red\",\"red\",\"red\",\"red\",\"blue\",\"red\",\"red\",\"red\",\"red\",\"red\",\"red\",\"red\",\"red\",\"red\",\"red\",\"red\",\"red\",\"blue\",\"red\",\"red\",\"red\",\"red\",\"red\",\"red\",\"red\",\"red\",\"red\",\"red\",\"red\",\"red\",\"red\",\"red\",\"red\",\"red\",\"red\",\"red\",\"red\",\"red\",\"red\"],\"x\":[1871,1872,1873,1874,1875,1876,1877,1878,1879,1880,1881,1882,1883,1884,1885,1886,1887,1888,1889,1890,1891,1892,1893,1894,1895,1896,1897,1898,1899,1900,1901,1902,1903,1904,1905,1906,1907,1908,1909,1910,1911,1912,1913,1914,1915,1916,1917,1918,1919,1920,1921,1922,1923,1924,1925,1926,1927,1928,1929,1930,1931,1932,1933,1934,1935,1936,1937,1938,1939,1940,1941,1942,1943,1944,1945,1946,1947,1948,1949,1950,1951,1952,1953,1954,1955,1956,1957,1958,1959,1960,1961,1962,1963,1964,1965,1966,1967,1968,1969,1970,1971,1972,1973,1974,1975,1976,1977,1978,1979,1980,1981,1982,1983,1984,1985,1986,1987,1988,1989,1990,1991,1992,1993,1994,1995,1996,1997,1998,1999,2000,2001,2002,2003,2004,2005,2006,2008,2009,2010,2011,2012,2013,2014,2015,2016],\"y\":[0.56,0.5842696629213483,0.649746192893401,0.6190476190476191,0.49850746268656715,0.5252918287937743,0.6497175141242938,0.55,0.5506329113924051,0.5662650602409639,0.5538922155688623,0.568904593639576,0.5892169448010269,0.5802798134576949,0.5936794582392777,0.5882352941176471,0.5778210116731517,0.5878504672897197,0.588512241054614,0.6110056925996205,0.5827205882352942,0.5850945494994438,0.6222509702457956,0.6091370558375635,0.6262755102040817,0.6015424164524421,0.6183206106870229,0.5932960893854748,0.592469545957918,0.5804701627486437,0.5613553113553114,0.5800548947849954,0.5632393084622384,0.5406070549630845,0.552999178307313,0.5422885572139303,0.543640897755611,0.5390879478827362,0.5377668308702791,0.5600981193785772,0.5270935960591133,0.5217391304347826,0.5103050288540808,0.5588235294117647,0.5400981996726678,0.5579119086460033,0.505718954248366,0.5646123260437376,0.550763701707098,0.5325732899022801,0.5432300163132137,0.5515840779853778,0.5089722675367048,0.5367047308319739,0.5604575163398693,0.5654664484451718,0.5610749185667753,0.5207823960880196,0.5446355446355446,0.5714285714285714,0.5819070904645477,0.5532953620829943,0.5583881578947368,0.5481481481481482,0.5471698113207547,0.5521172638436482,0.5432300163132137,0.5376967688483845,0.5368248772504092,0.5296989422294548,0.5393988627132412,0.5465020576131687,0.5517522412387939,0.5491470349309504,0.5673234811165846,0.5523114355231143,0.5397727272727273,0.5089430894308943,0.5592532467532467,0.5471544715447154,0.5263157894736842,0.5499593826157595,0.5264442636289667,0.5312753858651503,0.5621445978878961,0.5357142857142857,0.5252032520325203,0.5491470349309504,0.5405186385737439,0.5462662337662337,0.550948699929726,0.5364647713226205,0.5519159456118665,0.5259259259259259,0.5361334156886968,0.5337879727216367,0.5627705627705628,0.5114268066707844,0.5486361296963459,0.5404014410705095,0.5198760970573051,0.5290635091496233,0.5303810504634398,0.5335051546391752,0.5400931195033627,0.5239814337287262,0.543509272467903,0.5732635585156993,0.5395992366412213,0.5416468348405521,0.5212383009359252,0.5379867046533713,0.5422602089268755,0.5289923954372624,0.5502141837220371,0.5470980019029495,0.5482185273159145,0.5376549094375596,0.5501664289110794,0.53729216152019,0.5375475285171103,0.5517568850902185,0.5383597883597884,0.5165728580362726,0.5317460317460317,0.5414827890556045,0.5353045013239188,0.5378600823045268,0.5208075813761845,0.5403624382207578,0.5242998352553542,0.5418556701030928,0.5496088925483739,0.53500823723229,0.5374485596707819,0.546315356113627,0.5564250411861614,0.548559670781893,0.5588477366255145,0.5253190613421161,0.5329218106995884,0.5376388317564789,0.5300411522633744,0.5417867435158501,0.5302843016069221]}},\"id\":\"b620916d-201b-4222-bd1b-d1502c4290b7\",\"type\":\"ColumnDataSource\"},{\"attributes\":{\"plot\":null,\"text\":null},\"id\":\"dae7afc4-3246-412a-9bb1-1753fa57535d\",\"type\":\"Title\"},{\"attributes\":{\"below\":[{\"id\":\"bd3fe68f-03b0-41c0-b964-5f88bdbabe13\",\"type\":\"LinearAxis\"}],\"left\":[{\"id\":\"07441359-0460-478d-8e89-7ff098d9c1ab\",\"type\":\"LinearAxis\"}],\"plot_height\":800,\"plot_width\":800,\"renderers\":[{\"id\":\"bd3fe68f-03b0-41c0-b964-5f88bdbabe13\",\"type\":\"LinearAxis\"},{\"id\":\"727f84f6-5539-49b8-874a-1d63d28f37e0\",\"type\":\"Grid\"},{\"id\":\"07441359-0460-478d-8e89-7ff098d9c1ab\",\"type\":\"LinearAxis\"},{\"id\":\"b96371a5-9f7a-4193-97a3-048edb3c2970\",\"type\":\"Grid\"},{\"id\":\"8df7701b-b5ab-4381-a890-f830b27eccb4\",\"type\":\"BoxAnnotation\"},{\"id\":\"8c6880b2-f118-42f7-bd4f-c9a54dbf174d\",\"type\":\"GlyphRenderer\"},{\"id\":\"381abccd-073c-4532-9edf-ef9e86c4157f\",\"type\":\"GlyphRenderer\"},{\"id\":\"5dc987a9-702f-4b93-86af-198436479995\",\"type\":\"Legend\"},{\"id\":\"c7455be1-e964-4a63-bdb4-7473a7bbd9bc\",\"type\":\"GlyphRenderer\"},{\"id\":\"6c1bc8d8-0031-42ae-8b41-3e7e93f6da7a\",\"type\":\"GlyphRenderer\"},{\"id\":\"5ccd0ace-0d39-424d-8441-08fd81bc49a7\",\"type\":\"GlyphRenderer\"}],\"title\":{\"id\":\"dae7afc4-3246-412a-9bb1-1753fa57535d\",\"type\":\"Title\"},\"tool_events\":{\"id\":\"d49a7b3f-f202-408a-bb0f-aa98b27c8646\",\"type\":\"ToolEvents\"},\"toolbar\":{\"id\":\"223014cb-44e0-4780-94fe-0bf0b8b6865b\",\"type\":\"Toolbar\"},\"x_range\":{\"id\":\"37fc2636-f4e7-47b3-abed-77f73070a626\",\"type\":\"Range1d\"},\"y_range\":{\"id\":\"a6141214-9a20-4c71-9b5a-59c18c6cd72e\",\"type\":\"Range1d\"}},\"id\":\"fd952bc1-2dc1-4884-b337-eb55b15c72e0\",\"subtype\":\"Figure\",\"type\":\"Plot\"},{\"attributes\":{\"data_source\":{\"id\":\"ab786064-0c21-4255-a5e5-7ac4d76b3a98\",\"type\":\"ColumnDataSource\"},\"glyph\":{\"id\":\"d0bb22cf-1cd9-468a-bf8c-3f082de57975\",\"type\":\"Patch\"},\"hover_glyph\":null,\"nonselection_glyph\":{\"id\":\"1deb972d-20c7-485c-af3c-7af945f710d7\",\"type\":\"Patch\"},\"selection_glyph\":null},\"id\":\"c7455be1-e964-4a63-bdb4-7473a7bbd9bc\",\"type\":\"GlyphRenderer\"},{\"attributes\":{\"line_color\":{\"value\":\"green\"},\"line_dash\":[6],\"line_width\":{\"value\":2},\"x\":{\"field\":\"x\"},\"y\":{\"field\":\"y\"}},\"id\":\"65f7783d-77c3-48c4-97e4-e657e6592c14\",\"type\":\"Line\"},{\"attributes\":{\"plot\":{\"id\":\"fd952bc1-2dc1-4884-b337-eb55b15c72e0\",\"subtype\":\"Figure\",\"type\":\"Plot\"}},\"id\":\"a188f334-174f-4604-ab75-85ffe129a3a0\",\"type\":\"WheelZoomTool\"},{\"attributes\":{},\"id\":\"cb93b070-a9a6-4145-b51c-c240db694747\",\"type\":\"BasicTicker\"},{\"attributes\":{\"axis_label\":\"Season\",\"formatter\":{\"id\":\"dab799bb-cf19-4673-8c6b-bf87e19e4bae\",\"type\":\"BasicTickFormatter\"},\"major_label_orientation\":0.785,\"plot\":{\"id\":\"fd952bc1-2dc1-4884-b337-eb55b15c72e0\",\"subtype\":\"Figure\",\"type\":\"Plot\"},\"ticker\":{\"id\":\"b7180f74-9d07-46b3-a995-7eeb8f615909\",\"type\":\"FixedTicker\"}},\"id\":\"bd3fe68f-03b0-41c0-b964-5f88bdbabe13\",\"type\":\"LinearAxis\"},{\"attributes\":{\"active_drag\":\"auto\",\"active_scroll\":\"auto\",\"active_tap\":\"auto\",\"tools\":[{\"id\":\"382327dc-a10a-44a9-9baf-d1586e9125e2\",\"type\":\"PanTool\"},{\"id\":\"a188f334-174f-4604-ab75-85ffe129a3a0\",\"type\":\"WheelZoomTool\"},{\"id\":\"d666367d-7b8a-4405-96f8-f37da58fbc7e\",\"type\":\"BoxZoomTool\"},{\"id\":\"065d501b-1679-490d-a347-a45da54cef21\",\"type\":\"SaveTool\"},{\"id\":\"3b6df57f-eca3-4213-a892-479e486986a0\",\"type\":\"ResetTool\"},{\"id\":\"4a766804-b1a2-4a04-88e8-fbe904c419fd\",\"type\":\"HelpTool\"}]},\"id\":\"223014cb-44e0-4780-94fe-0bf0b8b6865b\",\"type\":\"Toolbar\"},{\"attributes\":{\"ticks\":[1880,1890,1900,1910,1920,1930,1940,1950,1960,1970,1980,1990,2000,2010]},\"id\":\"b7180f74-9d07-46b3-a995-7eeb8f615909\",\"type\":\"FixedTicker\"},{\"attributes\":{\"callback\":null,\"column_names\":[\"y\",\"x\"],\"data\":{\"x\":[1871,1871,2016,2016],\"y\":[0.5,1.0,1.0,0.5]}},\"id\":\"ab786064-0c21-4255-a5e5-7ac4d76b3a98\",\"type\":\"ColumnDataSource\"},{\"attributes\":{\"label\":{\"value\":\"visiting team advantage\"},\"renderers\":[{\"id\":\"6c1bc8d8-0031-42ae-8b41-3e7e93f6da7a\",\"type\":\"GlyphRenderer\"}]},\"id\":\"bc876406-905b-4227-a471-a56ad582ffc8\",\"type\":\"LegendItem\"},{\"attributes\":{},\"id\":\"dab799bb-cf19-4673-8c6b-bf87e19e4bae\",\"type\":\"BasicTickFormatter\"},{\"attributes\":{\"plot\":{\"id\":\"fd952bc1-2dc1-4884-b337-eb55b15c72e0\",\"subtype\":\"Figure\",\"type\":\"Plot\"}},\"id\":\"4a766804-b1a2-4a04-88e8-fbe904c419fd\",\"type\":\"HelpTool\"},{\"attributes\":{\"callback\":null,\"column_names\":[\"y\",\"x\"],\"data\":{\"x\":[1871,1871,2016,2016],\"y\":[0.0,0.5,0.5,0.0]}},\"id\":\"1a682cdf-3e10-45e4-ae28-d899f6e2661c\",\"type\":\"ColumnDataSource\"},{\"attributes\":{\"axis_label\":\"Home Team Winning %\",\"formatter\":{\"id\":\"1612d939-f06b-4633-b849-bd62eaa104a0\",\"type\":\"BasicTickFormatter\"},\"plot\":{\"id\":\"fd952bc1-2dc1-4884-b337-eb55b15c72e0\",\"subtype\":\"Figure\",\"type\":\"Plot\"},\"ticker\":{\"id\":\"8509fc68-4832-4295-b92b-d9baa6ede474\",\"type\":\"BasicTicker\"}},\"id\":\"07441359-0460-478d-8e89-7ff098d9c1ab\",\"type\":\"LinearAxis\"},{\"attributes\":{\"fill_alpha\":{\"value\":0.2},\"fill_color\":{\"value\":\"red\"},\"line_alpha\":{\"value\":0.2},\"line_color\":{\"value\":\"red\"},\"x\":{\"field\":\"x\"},\"y\":{\"field\":\"y\"}},\"id\":\"8abb52ae-4fa7-4033-b895-1e6c134992c9\",\"type\":\"Patch\"},{\"attributes\":{\"overlay\":{\"id\":\"8df7701b-b5ab-4381-a890-f830b27eccb4\",\"type\":\"BoxAnnotation\"},\"plot\":{\"id\":\"fd952bc1-2dc1-4884-b337-eb55b15c72e0\",\"subtype\":\"Figure\",\"type\":\"Plot\"}},\"id\":\"d666367d-7b8a-4405-96f8-f37da58fbc7e\",\"type\":\"BoxZoomTool\"},{\"attributes\":{\"bottom_units\":\"screen\",\"fill_alpha\":{\"value\":0.5},\"fill_color\":{\"value\":\"lightgrey\"},\"left_units\":\"screen\",\"level\":\"overlay\",\"line_alpha\":{\"value\":1.0},\"line_color\":{\"value\":\"black\"},\"line_dash\":[4,4],\"line_width\":{\"value\":2},\"plot\":null,\"render_mode\":\"css\",\"right_units\":\"screen\",\"top_units\":\"screen\"},\"id\":\"8df7701b-b5ab-4381-a890-f830b27eccb4\",\"type\":\"BoxAnnotation\"},{\"attributes\":{\"label\":{\"value\":\"home team advantage\"},\"renderers\":[{\"id\":\"c7455be1-e964-4a63-bdb4-7473a7bbd9bc\",\"type\":\"GlyphRenderer\"}]},\"id\":\"409422ae-1ae2-439f-b3c1-4ba6f2fac7d5\",\"type\":\"LegendItem\"},{\"attributes\":{\"plot\":{\"id\":\"fd952bc1-2dc1-4884-b337-eb55b15c72e0\",\"subtype\":\"Figure\",\"type\":\"Plot\"}},\"id\":\"065d501b-1679-490d-a347-a45da54cef21\",\"type\":\"SaveTool\"},{\"attributes\":{\"fill_alpha\":{\"value\":0.2},\"fill_color\":{\"value\":\"blue\"},\"line_alpha\":{\"value\":0.2},\"line_color\":{\"value\":\"blue\"},\"x\":{\"field\":\"x\"},\"y\":{\"field\":\"y\"}},\"id\":\"d0bb22cf-1cd9-468a-bf8c-3f082de57975\",\"type\":\"Patch\"},{\"attributes\":{},\"id\":\"8509fc68-4832-4295-b92b-d9baa6ede474\",\"type\":\"BasicTicker\"},{\"attributes\":{\"line_alpha\":{\"value\":0.1},\"line_color\":{\"value\":\"#1f77b4\"},\"line_dash\":[6],\"x\":{\"field\":\"x\"},\"y\":{\"field\":\"y\"}},\"id\":\"c8aab911-7efd-4454-a627-7c5c92e77203\",\"type\":\"Line\"},{\"attributes\":{\"callback\":null,\"column_names\":[\"x\",\"y\"],\"data\":{\"x\":[1871,2016],\"y\":[0.5,0.5]}},\"id\":\"a46b59b5-f58c-4234-899a-f5228ff567b5\",\"type\":\"ColumnDataSource\"},{\"attributes\":{\"callback\":null,\"column_names\":[\"y\",\"x\"],\"data\":{\"x\":[1876,1877,1878,1879,1880,1881,1882,1883,1884,1885,1886,1887,1888,1889,1890,1891,1892,1893,1894,1895,1896,1897,1898,1899,1900,1901,1902,1903,1904,1905,1906,1907,1908,1909,1910,1911,1912,1913,1914,1915,1916,1917,1918,1919,1920,1921,1922,1923,1924,1925,1926,1927,1928,1929,1930,1931,1932,1933,1934,1935,1936,1937,1938,1939,1940,1941,1942,1943,1944,1945,1946,1947,1948,1949,1950,1951,1952,1953,1954,1955,1956,1957,1958,1959,1960,1961,1962,1963,1964,1965,1966,1967,1968,1969,1970,1971,1972,1973,1974,1975,1976,1977,1978,1979,1980,1981,1982,1983,1984,1985,1986,1987,1988,1989,1990,1991,1992,1993,1994,1995,1996,1997,1998,1999,2000,2001,2002,2003,2004,2005,2006,2008,2009,2010,2011],\"y\":[0.5753478252100372,0.5747370467669235,0.5732005398387463,0.5671476150295088,0.5632708344705165,0.5727880340257875,0.5790823805581747,0.5718927303130605,0.5756777770420325,0.5794657100082533,0.5839397732441192,0.5868226105107623,0.588441606096749,0.591745008641226,0.5946307328792128,0.5978903380756931,0.5992210503091726,0.6032710102105598,0.6038155724201354,0.6042113029104658,0.6011577499253681,0.5990212222373698,0.5985172567659249,0.5926160905875691,0.5857630905001212,0.5784354573104443,0.5725100713865932,0.565042100093452,0.5596212859431782,0.5541510144344143,0.5521138100974076,0.5486876385677878,0.5428560621327665,0.5375626341719507,0.5393842816168188,0.5380941837533544,0.5396565188965617,0.5358643245458372,0.5384167623619371,0.539716449445619,0.5369639664979894,0.5385776085233994,0.5415621032784589,0.5414288271467214,0.5392169472887423,0.5412528789554625,0.5420083329353793,0.5475439293672202,0.5431609363716484,0.5425481206644932,0.5464336488171222,0.5503013562322556,0.5504724846420173,0.5554140736778205,0.556558415409438,0.5552296449075265,0.5538947264473741,0.5521102362220178,0.5538016734980544,0.5530206067595409,0.5488476438396293,0.5445968210644987,0.5439174906175162,0.5432538989519217,0.5433537876302019,0.5453691546097849,0.5453885717777316,0.5450428428736829,0.5421674749319338,0.5444103118822176,0.5461558648137437,0.544847557489788,0.5451932899900471,0.5426624922290644,0.5408753273224843,0.5403574389996155,0.5386977240187327,0.5372407764947119,0.5412611710447176,0.5393877102267672,0.539298886448919,0.5417621774945232,0.5404127163652094,0.5429598845634993,0.542424938569577,0.539823820349657,0.539631189050392,0.5433879201241962,0.5396158972981797,0.5404276464104399,0.5398411671408675,0.5367339068536254,0.5359937806363257,0.5338402911214831,0.534598213992808,0.5349941843742745,0.5340135304749835,0.5320874014447174,0.5382710766292089,0.5373673873236966,0.5374919267007009,0.5376281470885629,0.5385204666389376,0.5397083824852812,0.53925710656509,0.5402692129869574,0.5425808698043797,0.5430517952891809,0.539490930381367,0.5405476496083527,0.5401121822763164,0.5417431050344349,0.5431201230781196,0.542730081021411,0.541488127281312,0.5396413120837115,0.5390797907989768,0.5377883881997774,0.5378089054864741,0.5348730207329847,0.5351800484030413,0.5338552790768658,0.5328651575781532,0.5339900679970118,0.5358336059166136,0.5364038587090886,0.5368871154148909,0.5389991694011151,0.5400691282488517,0.5438731437737847,0.5423688060859205,0.5432310036303438,0.5428093197956826,0.5408525457671826,0.5415303963955386]}},\"id\":\"1dc870aa-baab-41b6-b3a7-f0bca724bcfa\",\"type\":\"ColumnDataSource\"},{\"attributes\":{\"plot\":{\"id\":\"fd952bc1-2dc1-4884-b337-eb55b15c72e0\",\"subtype\":\"Figure\",\"type\":\"Plot\"}},\"id\":\"3b6df57f-eca3-4213-a892-479e486986a0\",\"type\":\"ResetTool\"},{\"attributes\":{\"grid_line_color\":{\"value\":null},\"plot\":{\"id\":\"fd952bc1-2dc1-4884-b337-eb55b15c72e0\",\"subtype\":\"Figure\",\"type\":\"Plot\"},\"ticker\":{\"id\":\"cb93b070-a9a6-4145-b51c-c240db694747\",\"type\":\"BasicTicker\"}},\"id\":\"727f84f6-5539-49b8-874a-1d63d28f37e0\",\"type\":\"Grid\"},{\"attributes\":{\"fill_alpha\":{\"value\":0.1},\"fill_color\":{\"value\":\"#1f77b4\"},\"line_alpha\":{\"value\":0.1},\"line_color\":{\"value\":\"#1f77b4\"},\"x\":{\"field\":\"x\"},\"y\":{\"field\":\"y\"}},\"id\":\"03e736b3-ab03-4f3c-8396-917b8681ee2a\",\"type\":\"Circle\"},{\"attributes\":{\"data_source\":{\"id\":\"b620916d-201b-4222-bd1b-d1502c4290b7\",\"type\":\"ColumnDataSource\"},\"glyph\":{\"id\":\"b4b6fa0e-df90-46ea-b5ce-bccf98cc192f\",\"type\":\"Circle\"},\"hover_glyph\":null,\"nonselection_glyph\":{\"id\":\"03e736b3-ab03-4f3c-8396-917b8681ee2a\",\"type\":\"Circle\"},\"selection_glyph\":null},\"id\":\"8c6880b2-f118-42f7-bd4f-c9a54dbf174d\",\"type\":\"GlyphRenderer\"},{\"attributes\":{\"line_dash\":[6],\"x\":{\"field\":\"x\"},\"y\":{\"field\":\"y\"}},\"id\":\"709868de-ba06-4009-a782-de80fc8a4678\",\"type\":\"Line\"}],\"root_ids\":[\"fd952bc1-2dc1-4884-b337-eb55b15c72e0\"]},\"title\":\"Bokeh Application\",\"version\":\"0.12.3\"}};\n",
       "            var render_items = [{\"docid\":\"007afbbf-5cdc-4354-96b4-ee0d050130bc\",\"elementid\":\"fc142816-1f7c-4435-b00d-308d3b45650f\",\"modelid\":\"fd952bc1-2dc1-4884-b337-eb55b15c72e0\"}];\n",
       "            \n",
       "            Bokeh.embed.embed_items(docs_json, render_items);\n",
       "        });\n",
       "      },\n",
       "      function(Bokeh) {\n",
       "      }\n",
       "    ];\n",
       "  \n",
       "    function run_inline_js() {\n",
       "      \n",
       "      if ((window.Bokeh !== undefined) || (force === \"1\")) {\n",
       "        for (var i = 0; i < inline_js.length; i++) {\n",
       "          inline_js[i](window.Bokeh);\n",
       "        }if (force === \"1\") {\n",
       "          display_loaded();\n",
       "        }} else if (Date.now() < window._bokeh_timeout) {\n",
       "        setTimeout(run_inline_js, 100);\n",
       "      } else if (!window._bokeh_failed_load) {\n",
       "        console.log(\"Bokeh: BokehJS failed to load within specified timeout.\");\n",
       "        window._bokeh_failed_load = true;\n",
       "      } else if (!force) {\n",
       "        var cell = $(\"#fc142816-1f7c-4435-b00d-308d3b45650f\").parents('.cell').data().cell;\n",
       "        cell.output_area.append_execute_result(NB_LOAD_WARNING)\n",
       "      }\n",
       "  \n",
       "    }\n",
       "  \n",
       "    if (window._bokeh_is_loading === 0) {\n",
       "      console.log(\"Bokeh: BokehJS loaded, going straight to plotting\");\n",
       "      run_inline_js();\n",
       "    } else {\n",
       "      load_libs(js_urls, function() {\n",
       "        console.log(\"Bokeh: BokehJS plotting callback run at\", now());\n",
       "        run_inline_js();\n",
       "      });\n",
       "    }\n",
       "  }(this));\n",
       "</script>"
      ]
     },
     "metadata": {},
     "output_type": "display_data"
    }
   ],
   "source": [
    "f = figure(y_range=(0, 1), \n",
    "           x_range=(min(years), max(years)),\n",
    "           plot_width=800,\n",
    "           plot_height=800\n",
    "          )\n",
    "\n",
    "\n",
    "f.circle(y=[year[0]/sum(year) for year in wins_by_year],\n",
    "         x=years,\n",
    "         color = ['red' if binom_test(wins) < 0.05 else 'blue'for wins in wins_by_year]\n",
    "        )\n",
    "f.line(y=[0.5, 0.5], \n",
    "       x=[min(years), max(years)], \n",
    "       line_color='black',\n",
    "       line_dash='dashed'\n",
    "      )\n",
    "\n",
    "f.patch(y=[0.5, 1, 1, 0.5],\n",
    "        x=[min(years), min(years), max(years), max(years)],\n",
    "        fill_color='blue',\n",
    "        line_color='blue',\n",
    "        fill_alpha=0.2,\n",
    "        line_alpha=0.2,\n",
    "        legend='home team advantage'\n",
    "        \n",
    "       )\n",
    "\n",
    "f.patch(y=[0, 0.5, 0.5, 0],\n",
    "        x=[min(years), min(years), max(years), max(years)],\n",
    "        fill_color='red',\n",
    "        line_color='red',\n",
    "        fill_alpha=0.2,\n",
    "        line_alpha=0.2,\n",
    "        legend='visiting team advantage'\n",
    "       )\n",
    "\n",
    "f.line(y=ten_yr_avg, \n",
    "       x=years[5:-5], \n",
    "       line_color='green',\n",
    "       line_dash='dashed',\n",
    "       line_width=2,\n",
    "       legend='ten year average'\n",
    "      )\n",
    "\n",
    "\n",
    "f.yaxis.axis_label = 'Home Team Winning %'\n",
    "f.xaxis.axis_label = 'Season'\n",
    "f.xaxis.major_label_orientation = 3.14/4\n",
    "f.xgrid.grid_line_color = None\n",
    "\n",
    "from bokeh.models import FixedTicker\n",
    "\n",
    "f.xaxis[0].ticker=FixedTicker(ticks=[x for x in years if x%10==0])\n",
    "\n",
    "show(f)"
   ]
  },
  {
   "cell_type": "markdown",
   "metadata": {
    "collapsed": true
   },
   "source": [
    "Needless to say, I was quite shocked.  In all of baseball...from 1871-2016...the visiting team never had a significant advantage.  In fact, it was the exact opposite of what I thought.  This advantage has leveled out since the beginning of baseball.  So, my friend and I were discussing the reasons for the higher advantage.  It seems to fit in the dead ball era, for one.  Another hypothesis could be the interesting dimensions of parks back then.  Take the Polo Grounds for example (__Figure 2.__).\n",
    "\n",
    "<center><img src=../../images/PoloGrounds.jpg></center>.\n",
    "<center><b>Figure 2.</b> Polo Grounds dimensions. (src=http://www.andrewclem.com/Baseball/PoloGrounds.html)</center>."
   ]
  },
  {
   "cell_type": "markdown",
   "metadata": {},
   "source": [
    "The home team playing 81 games on that monstrosity must be an advantage, right?  I dunno, would  be interesting to look into that a little more.  Also, these game logs contain a ton of information so it would be nice to look into some other relationshops as well.  "
   ]
  }
 ],
 "metadata": {
  "anaconda-cloud": {},
  "kernelspec": {
   "display_name": "Python 3",
   "language": "python",
   "name": "python3"
  },
  "language_info": {
   "codemirror_mode": {
    "name": "ipython",
    "version": 3
   },
   "file_extension": ".py",
   "mimetype": "text/x-python",
   "name": "python",
   "nbconvert_exporter": "python",
   "pygments_lexer": "ipython3",
   "version": "3.7.4"
  },
  "nikola": {
   "category": "",
   "date": "2017-02-02 10:10:13 UTC-04:00",
   "description": "",
   "link": "",
   "slug": "home-team-advantage-in-baseball",
   "tags": "",
   "title": "Home Team Advantage in Baseball",
   "type": "text"
  }
 },
 "nbformat": 4,
 "nbformat_minor": 2
}
