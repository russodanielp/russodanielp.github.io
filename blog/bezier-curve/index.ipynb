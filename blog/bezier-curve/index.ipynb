{
 "cells": [
  {
   "cell_type": "markdown",
   "metadata": {},
   "source": [
    "Molecule properties and activities are most often represented in continuous, real values (e.g., EC<sub>50</sub>, IC<sub>50</sub>, LD<sub>50</sub>, LogP, etc.).  Usually for graphs I convert these values into discrete classifications (e.g., active/inactive, toxic/non-toxic, soluble/insoluble, etc.).  When making a new graph I can represent a molecule's properties or activities using a set of a few colors (red for active, green for inactive, etc).  Pretty straight forward stuff.  However, if I wanted to color the compound's real value it'd be a little more difficult; I would need a color gradient.  For example, the most active compounds the color would be red and the least active would be green.  Molecules that fall inbetween would be a color that is a mix between red and green, more red for more active and vice versa.  \n",
    "<!-- TEASER_END -->\n",
    "Apparently, none of the plotting packages (Bokeh, matplotlib, Plotly, seaborn) have this feature in their color libraries.  At least nothing I could find that allows you to set the colors from any two colors you choose.  Something similar I found was allowing you to import a \"spectrum\" of colors.  A discrete set of blues, for example, that go from dark blue to light blue.  However, this is not suitable for the infinite number of values that a LogP or LD<sub>50</sub> could take.  \n",
    "\n",
    "I took to the internet and found a great [blog post](http://bsou.io/posts/color-gradients-with-python) by Ben Southgate, which I'll sumarize here.  In it he lays down the framework how to use [Bezier curves](https://en.wikipedia.org/wiki/B%C3%A9zier_curve) create a color gradient between any number of colors.  Unfortunately, the code he wrote generates a discrete set of color values, so in this post I'll change it up to accept any real value between $0$ and $1$.  \n",
    "\n",
    "First, let's think about color as an RGB value, which is simply a vector in 3-dimensional space `[R, G, B]`, and let's plot that out.  "
   ]
  },
  {
   "cell_type": "code",
   "execution_count": 3,
   "metadata": {},
   "outputs": [
    {
     "ename": "ImportError",
     "evalue": "\nThe plotly.plotly module is deprecated,\nplease install the chart-studio package and use the\nchart_studio.plotly module instead. \n",
     "output_type": "error",
     "traceback": [
      "\u001b[1;31m---------------------------------------------------------------------------\u001b[0m",
      "\u001b[1;31mImportError\u001b[0m                               Traceback (most recent call last)",
      "\u001b[1;32m<ipython-input-3-4d18efb26086>\u001b[0m in \u001b[0;36m<module>\u001b[1;34m\u001b[0m\n\u001b[1;32m----> 1\u001b[1;33m \u001b[1;32mimport\u001b[0m \u001b[0mplotly\u001b[0m\u001b[1;33m.\u001b[0m\u001b[0mplotly\u001b[0m \u001b[1;32mas\u001b[0m \u001b[0mpy\u001b[0m\u001b[1;33m\u001b[0m\u001b[1;33m\u001b[0m\u001b[0m\n\u001b[0m\u001b[0;32m      2\u001b[0m \u001b[1;32mimport\u001b[0m \u001b[0mplotly\u001b[0m\u001b[1;33m.\u001b[0m\u001b[0mgraph_objs\u001b[0m \u001b[1;32mas\u001b[0m \u001b[0mgo\u001b[0m\u001b[1;33m\u001b[0m\u001b[1;33m\u001b[0m\u001b[0m\n\u001b[0;32m      3\u001b[0m \u001b[1;33m\u001b[0m\u001b[0m\n\u001b[0;32m      4\u001b[0m \u001b[1;33m\u001b[0m\u001b[0m\n\u001b[0;32m      5\u001b[0m \u001b[0mred\u001b[0m \u001b[1;33m=\u001b[0m \u001b[1;33m[\u001b[0m\u001b[1;36m255\u001b[0m\u001b[1;33m,\u001b[0m \u001b[1;36m0\u001b[0m\u001b[1;33m,\u001b[0m \u001b[1;36m0\u001b[0m\u001b[1;33m]\u001b[0m\u001b[1;33m\u001b[0m\u001b[1;33m\u001b[0m\u001b[0m\n",
      "\u001b[1;32mc:\\users\\daniel\\anaconda3\\envs\\newwebsite\\lib\\site-packages\\plotly\\plotly\\__init__.py\u001b[0m in \u001b[0;36m<module>\u001b[1;34m\u001b[0m\n\u001b[0;32m      2\u001b[0m \u001b[1;32mfrom\u001b[0m \u001b[0m_plotly_future_\u001b[0m \u001b[1;32mimport\u001b[0m \u001b[0m_chart_studio_error\u001b[0m\u001b[1;33m\u001b[0m\u001b[1;33m\u001b[0m\u001b[0m\n\u001b[0;32m      3\u001b[0m \u001b[1;33m\u001b[0m\u001b[0m\n\u001b[1;32m----> 4\u001b[1;33m \u001b[0m_chart_studio_error\u001b[0m\u001b[1;33m(\u001b[0m\u001b[1;34m\"plotly\"\u001b[0m\u001b[1;33m)\u001b[0m\u001b[1;33m\u001b[0m\u001b[1;33m\u001b[0m\u001b[0m\n\u001b[0m",
      "\u001b[1;32mc:\\users\\daniel\\anaconda3\\envs\\newwebsite\\lib\\site-packages\\_plotly_future_\\__init__.py\u001b[0m in \u001b[0;36m_chart_studio_error\u001b[1;34m(submodule)\u001b[0m\n\u001b[0;32m     47\u001b[0m \u001b[0mchart_studio\u001b[0m\u001b[1;33m.\u001b[0m\u001b[1;33m{\u001b[0m\u001b[0msubmodule\u001b[0m\u001b[1;33m}\u001b[0m \u001b[0mmodule\u001b[0m \u001b[0minstead\u001b[0m\u001b[1;33m.\u001b[0m\u001b[1;33m\u001b[0m\u001b[1;33m\u001b[0m\u001b[0m\n\u001b[0;32m     48\u001b[0m \"\"\".format(\n\u001b[1;32m---> 49\u001b[1;33m             \u001b[0msubmodule\u001b[0m\u001b[1;33m=\u001b[0m\u001b[0msubmodule\u001b[0m\u001b[1;33m\u001b[0m\u001b[1;33m\u001b[0m\u001b[0m\n\u001b[0m\u001b[0;32m     50\u001b[0m         )\n\u001b[0;32m     51\u001b[0m     )\n",
      "\u001b[1;31mImportError\u001b[0m: \nThe plotly.plotly module is deprecated,\nplease install the chart-studio package and use the\nchart_studio.plotly module instead. \n"
     ]
    }
   ],
   "source": [
    "import plotly.plotly as py\n",
    "import plotly.graph_objs as go\n",
    "\n",
    "\n",
    "red = [255, 0, 0]\n",
    "green = [0, 255, 0]\n",
    "blue = [0, 0, 255]\n",
    "\n",
    "colors = [red, green, blue]\n",
    "\n",
    "data = []\n",
    "\n",
    "for color in colors:\n",
    "    data.append(\n",
    "                    go.Scatter3d(\n",
    "                                x=color[0],\n",
    "                                y=color[1],\n",
    "                                z=color[2],\n",
    "                                mode='markers',\n",
    "                                marker=dict(\n",
    "                                            color='rgb({0}, {1}, {2})'.format(color[0], color[1], color[2]),\n",
    "                                            size=12,\n",
    "                                            symbol='circle',\n",
    "                                            line=dict(\n",
    "                                            color='rgb({0}, {1}, {2})'.format(color[0], color[1], color[2]),\n",
    "                                            width=1\n",
    "                                                    )\n",
    "                                            )\n",
    "                                    )\n",
    "                        )\n",
    "    \n",
    "layout = go.Layout(showlegend=False)\n",
    "fig = go.Figure(data=data, layout=layout)\n",
    "py.iplot(fig)"
   ]
  },
  {
   "cell_type": "markdown",
   "metadata": {},
   "source": [
    "So now, being in 3D color space and all, it's pretty easy to see that you could generate an infinite amount of colors from red to green by simply drawing a line from the red circle located at $[255, 0, 0]$ to the green circle $[0, 255, 0]$.  If we define a variable $t \\in [0,1]$, it can be thought of the distance traveled on the line from red to green.  When $t = 0.5$, we're halway from red to green.  If we do this linearly, we get an equation like this:  \n",
    "\n",
    "$$color(t) = [255, 0, 0] + t\\times([0, 255, 0]-[255, 0, 0])$$\n",
    "\n",
    "Which is an easy function to code using numpy."
   ]
  },
  {
   "cell_type": "code",
   "execution_count": 37,
   "metadata": {},
   "outputs": [],
   "source": [
    "import numpy as np\n",
    "\n",
    "def linear_color(t, colors):\n",
    "    \"\"\" returns a color at distance t from color 1 to color 2 \n",
    "    \n",
    "    t: floating point between [0,1]\n",
    "    colors: list of two colors    \n",
    "    \"\"\"\n",
    "    colors = list(map(np.asarray, colors))\n",
    "    return colors[0] + t * (colors[1] - colors[0])"
   ]
  },
  {
   "cell_type": "markdown",
   "metadata": {},
   "source": [
    "Any molecule activity, when scaled to be $[0,1]$ would then have a color on this gradient line. We can see what that would look like for one hundered values traveling from red to green."
   ]
  },
  {
   "cell_type": "code",
   "execution_count": 38,
   "metadata": {},
   "outputs": [
    {
     "data": {
      "text/html": [
       "<iframe id=\"igraph\" scrolling=\"no\" style=\"border:none;\" seamless=\"seamless\" src=\"https://plot.ly/~russodanielp/38.embed\" height=\"525px\" width=\"100%\"></iframe>"
      ],
      "text/plain": [
       "<plotly.tools.PlotlyDisplay object>"
      ]
     },
     "execution_count": 38,
     "metadata": {},
     "output_type": "execute_result"
    }
   ],
   "source": [
    "ts = np.linspace(0, 1, 100)\n",
    "\n",
    "colors_red_to_green = [linear_color(t, [red, green]) for t in ts]\n",
    "line_data = []\n",
    "\n",
    "for color in colors_red_to_green:\n",
    "    line_data.append(\n",
    "                    go.Scatter3d(\n",
    "                                x=color[0],\n",
    "                                y=color[1],\n",
    "                                z=color[2],\n",
    "                                mode='markers',\n",
    "                                marker=dict(\n",
    "                                            color='rgb({0}, {1}, {2})'.format(color[0], color[1], color[2]),\n",
    "                                            size=12,\n",
    "                                            symbol='circle',\n",
    "                                            line=dict(\n",
    "                                            color='rgb({0}, {1}, {2})'.format(color[0], color[1], color[2]),\n",
    "                                            width=1\n",
    "                                                    )\n",
    "                                            )\n",
    "                                    )\n",
    "                        )\n",
    "    \n",
    "layout = go.Layout(showlegend=False)\n",
    "fig = go.Figure(data=data+line_data, layout=layout)\n",
    "py.iplot(fig)"
   ]
  },
  {
   "cell_type": "markdown",
   "metadata": {},
   "source": [
    "The problem with that is that it's pretty ugly for inconclusive colors, that is molecules that are equidistant between active and inactive.  Let's say we wanted to have these colors take on a nicer blue color to show moderate activity.  We can do that if we take a detour in our 3D space.  Instead of linearly traveling from red to green, let's go around the ugly colors and approach the blue space.  To do that, we can use a Bezier curve.  A Bezier curve can create a nice smooth curve, given $n$ control points that dictate its shape.  As an example, we can use the red, blue, and green as our control points.  What the Bezier curve essentially does is it draws two lines, one from red to blue, the other from blue to green.  If $t$ is a point on each of these lines starting at $0$ (the green point for the first line and the blue for the second) the Bezier curve is the curve that connects these two points as $t$ travels from $0$ to $1$ along the lines.  This is much easier to understand when demonstrated visually, so [here](https://www.jasondavies.com/animated-bezier/) is a nice interactive I found that shows how a Bezier curve can be drawn for an arbitrary number of control points at any distance.  Mathematically, the equation looks like this for n+1 control colors, where $P$ is a control color:\n",
    "\n",
    "$$B(t) = \\sum\\limits_{i=1}^n b_{i,n} (t)P_{i}$$\n",
    "\n",
    "$b_{i,n}(t)$ is the Bernstein coefficient defined as \n",
    "\n",
    "$$b_{i,n}(t) = \\bigg(\\frac{n!}{i!(n-i)!}\\bigg)t^i(1-t)^{n-i}$$\n",
    "\n",
    "So, what that would look like for our three control points `[red, blue, green]`, would be this:\n",
    "\n",
    "$$ B(t) = b_{0,2}(t)[255, 0, 0] + b_{1,2}(t)[0, 0, 255] + b_{2,2}(t)[0, 255, 0] $$\n",
    "\n",
    "Using these equations, we can write two functions that can calculate a color for any point $t$ given any number of control points. "
   ]
  },
  {
   "cell_type": "code",
   "execution_count": 41,
   "metadata": {
    "collapsed": true
   },
   "outputs": [],
   "source": [
    "def bernstein_coefficient(t, i, n):\n",
    "    \"\"\" return the bernstein_constant for a Bezier curve\n",
    "    \n",
    "    t: floating point between [0,1]\n",
    "    i: int between [0,n]\n",
    "    n: number of control points\n",
    "    \"\"\"\n",
    "    import math\n",
    "    term1 = math.factorial(n)/(math.factorial(i)*math.factorial(n-i))\n",
    "    term2 = ((1-t)**(n-i))*(t**i)\n",
    "    return term1*term2\n",
    "\n",
    "def bezier_point(t, control_points):\n",
    "    \"\"\" Return RGB values for a point on a bezier curve given at t given a list of control points\n",
    "    \n",
    "    t: floating point between [0,1]\n",
    "    control_points: list of control points, which should be in three dimensions (R,G,B)\n",
    "    \"\"\"\n",
    "    control_points = list(map(np.asarray, control_points))\n",
    "    result = [\n",
    "        bernstein_coefficient(t, i, len(control_points)-1)*pnt for i, pnt in enumerate(control_points)\n",
    "    ]\n",
    "    return [int(sum(pnt)) for pnt in zip(*result)]"
   ]
  },
  {
   "cell_type": "markdown",
   "metadata": {
    "collapsed": true
   },
   "source": [
    "Finally, the Bezier curve for our three control points would look something like this:"
   ]
  },
  {
   "cell_type": "code",
   "execution_count": 40,
   "metadata": {},
   "outputs": [
    {
     "data": {
      "text/html": [
       "<iframe id=\"igraph\" scrolling=\"no\" style=\"border:none;\" seamless=\"seamless\" src=\"https://plot.ly/~russodanielp/40.embed\" height=\"525px\" width=\"100%\"></iframe>"
      ],
      "text/plain": [
       "<plotly.tools.PlotlyDisplay object>"
      ]
     },
     "execution_count": 40,
     "metadata": {},
     "output_type": "execute_result"
    }
   ],
   "source": [
    "colors_red_to_green = [bezier_point(t, [red, blue, green]) for t in ts]\n",
    "\n",
    "curve_data = []\n",
    "\n",
    "for color in colors_red_to_green:\n",
    "    curve_data.append(\n",
    "                    go.Scatter3d(\n",
    "                                x=color[0],\n",
    "                                y=color[1],\n",
    "                                z=color[2],\n",
    "                                mode='markers',\n",
    "                                marker=dict(\n",
    "                                            color='rgb({0}, {1}, {2})'.format(color[0], color[1], color[2]),\n",
    "                                            size=12,\n",
    "                                            symbol='circle',\n",
    "                                            line=dict(\n",
    "                                            color='rgb({0}, {1}, {2})'.format(color[0], color[1], color[2]),\n",
    "                                            width=1\n",
    "                                                    )\n",
    "                                            )\n",
    "                                    )\n",
    "                        )\n",
    "    \n",
    "layout = go.Layout(showlegend=False)\n",
    "fig = go.Figure(data=data+curve_data, layout=layout)\n",
    "py.iplot(fig)"
   ]
  },
  {
   "cell_type": "markdown",
   "metadata": {},
   "source": [
    "We are left with a much nicer looking color gradient using a Bezier curve.  Many thanks to [Nastassia Pouradier Duteil](https://sites.google.com/site/nastassiapouradierduteil/) for working through the math with me.  "
   ]
  }
 ],
 "metadata": {
  "anaconda-cloud": {},
  "kernelspec": {
   "display_name": "Python 3",
   "language": "python",
   "name": "python3"
  },
  "language_info": {
   "codemirror_mode": {
    "name": "ipython",
    "version": 3
   },
   "file_extension": ".py",
   "mimetype": "text/x-python",
   "name": "python",
   "nbconvert_exporter": "python",
   "pygments_lexer": "ipython3",
   "version": "3.7.4"
  },
  "nikola": {
   "category": "",
   "date": "2016-11-19 17:48:26 UTC-04:00",
   "description": "",
   "link": "",
   "slug": "bezier-curve",
   "status": "draft",
   "tags": "",
   "title": "Bezier Curve",
   "type": "text"
  }
 },
 "nbformat": 4,
 "nbformat_minor": 1
}
