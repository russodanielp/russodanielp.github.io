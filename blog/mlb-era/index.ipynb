{
 "cells": [
  {
   "cell_type": "code",
   "execution_count": 1,
   "metadata": {},
   "outputs": [],
   "source": [
    "import urllib\n",
    "import xml.etree.ElementTree as ET"
   ]
  },
  {
   "cell_type": "code",
   "execution_count": 2,
   "metadata": {},
   "outputs": [],
   "source": [
    "all_game_directories = []\n",
    "\n",
    "days = range(1, 32)\n",
    "months = range(4, 12)\n",
    "years = range(2014, 2019)\n",
    "\n",
    "for year in years:\n",
    "    for month in months:\n",
    "        for day in days:\n",
    "            games_for_day_string = \"http://gd2.mlb.com/components/game/mlb/year_{}/month_{:02d}/day_{:02d}/miniscoreboard.xml\".format(year, month, day)\n",
    "            try:\n",
    "                response = urllib.request.urlopen(games_for_day_string)\n",
    "                games = ET.fromstring(response.read())\n",
    "                for game in games:\n",
    "                    all_game_directories.append(game.get('game_data_directory'))\n",
    "            except urllib.error.HTTPError as e:\n",
    "                pass       \n"
   ]
  },
  {
   "cell_type": "code",
   "execution_count": 3,
   "metadata": {
    "scrolled": false
   },
   "outputs": [],
   "source": [
    "game_scoreboards = []\n",
    "\n",
    "for game_dir in all_game_directories:\n",
    "    game_dir_str = \"http://gd2.mlb.com{}/miniscoreboard.xml\".format(game_dir)\n",
    "    try:\n",
    "        response = urllib.request.urlopen(game_dir_str)\n",
    "\n",
    "        game = ET.fromstring(response.read())\n",
    "        \n",
    "        # just get winning pitcher/ losing pitch info\n",
    "        post_game = game.find('post_game')\n",
    "        if post_game:\n",
    "            winning_pitcher = post_game.find('winning_pitcher')\n",
    "            losing_pitcher = post_game.find('losing_pitcher')\n",
    "            game_scoreboards.append((winning_pitcher, losing_pitcher))\n",
    "    except:\n",
    "        pass\n"
   ]
  },
  {
   "cell_type": "code",
   "execution_count": 4,
   "metadata": {},
   "outputs": [],
   "source": [
    "import numpy as np\n",
    "def era(ers, ip):\n",
    "    if ers > 0 and ip == 0:\n",
    "        return np.inf\n",
    "    if ers == 0 and ip == 0:\n",
    "        return 0\n",
    "    return ers/ip * 9"
   ]
  },
  {
   "cell_type": "code",
   "execution_count": 5,
   "metadata": {
    "scrolled": false
   },
   "outputs": [],
   "source": [
    "winning_pitcher_stats = []\n",
    "losing_pitcher_stats = []\n",
    "\n",
    "for winning_pitcher, losing_pitcher in game_scoreboards:\n",
    "\n",
    "    winner_er, winner_ip = float(winning_pitcher.get('er', 0)), float(winning_pitcher.get('ip', 0))\n",
    "    loser_er, loser_ip = float(losing_pitcher.get('er', 0)), float(losing_pitcher.get('ip', 0))\n",
    "    \n",
    "    winning_pitcher_stats.append((winner_er, winner_ip)) \n",
    "    losing_pitcher_stats.append((loser_er, loser_ip))"
   ]
  },
  {
   "cell_type": "code",
   "execution_count": 6,
   "metadata": {},
   "outputs": [],
   "source": [
    "import pandas as pd\n",
    "\n",
    "winning_pitcher_stats = pd.DataFrame(winning_pitcher_stats, columns=['er', 'ip'])\n",
    "losing_pitcher_stats = pd.DataFrame(losing_pitcher_stats,  columns=['er', 'ip'])"
   ]
  },
  {
   "cell_type": "code",
   "execution_count": 7,
   "metadata": {},
   "outputs": [],
   "source": [
    "winning_pitcher_stats['era'] = [era(row['er'], row['ip']) for i, row in winning_pitcher_stats.iterrows()]\n",
    "losing_pitcher_stats['era'] = [era(row['er'], row['ip']) for i, row in losing_pitcher_stats.iterrows()]"
   ]
  },
  {
   "cell_type": "code",
   "execution_count": 8,
   "metadata": {},
   "outputs": [],
   "source": [
    "import matplotlib.pyplot as plt"
   ]
  },
  {
   "cell_type": "code",
   "execution_count": 15,
   "metadata": {},
   "outputs": [
    {
     "data": {
      "image/png": "[encoded data removed]",
      "text/plain": [
       "<Figure size 288x1152 with 9 Axes>"
      ]
     },
     "metadata": {
      "needs_background": "light"
     },
     "output_type": "display_data"
    }
   ],
   "source": [
    "fig, ax = plt.subplots(9, 1, figsize=plt.figaspect(9/1))\n",
    "\n",
    "\n",
    "\n",
    "for i, ax in enumerate(ax.flatten()):\n",
    "    \n",
    "    winning_data = winning_pitcher_stats['er'][winning_pitcher_stats['ip'] > i]\n",
    "    losing_data = losing_pitcher_stats['er'][losing_pitcher_stats['ip'] > i]\n",
    "    \n",
    "    n, bins, winning_patches = ax.hist(winning_data, 10, density=1, alpha=0.4, label=\"winning\", color='blue')\n",
    "    n, bins, losing_patches = ax.hist(losing_data, 10, density=1, alpha=0.4, label=\"losing\", color='red')\n",
    "\n",
    "plt.show()"
   ]
  },
  {
   "cell_type": "code",
   "execution_count": 10,
   "metadata": {},
   "outputs": [
    {
     "name": "stdout",
     "output_type": "stream",
     "text": [
      "4655     0.0\n",
      "265      0.0\n",
      "3457     0.0\n",
      "5158     0.0\n",
      "261      0.0\n",
      "        ... \n",
      "5683     inf\n",
      "10701    inf\n",
      "5622     inf\n",
      "5727     inf\n",
      "6368     inf\n",
      "Name: era, Length: 12378, dtype: float64\n"
     ]
    }
   ],
   "source": [
    "print(losing_pitcher_stats['era'].sort_values())"
   ]
  },
  {
   "cell_type": "code",
   "execution_count": 11,
   "metadata": {},
   "outputs": [],
   "source": [
    "import math"
   ]
  },
  {
   "cell_type": "code",
   "execution_count": 19,
   "metadata": {},
   "outputs": [
    {
     "data": {
      "image/png": "[encoded data removed]",
      "text/plain": [
       "<Figure size 720x720 with 1 Axes>"
      ]
     },
     "metadata": {
      "needs_background": "light"
     },
     "output_type": "display_data"
    }
   ],
   "source": [
    "fig, ax = plt.subplots(1, 1, figsize=(10,10))\n",
    "\n",
    "\n",
    "    \n",
    "winning_data = winning_pitcher_stats['er'][winning_pitcher_stats['ip'] > 3]\n",
    "losing_data = losing_pitcher_stats['er'][losing_pitcher_stats['ip'] > 3]\n",
    "\n",
    "\n",
    "n, bins, winning_patches = ax.hist(winning_data, 10, density=1, alpha=0.4, label=\"winning\", color='blue')\n",
    "n, bins, losing_patches = ax.hist(losing_data, 10, density=1, alpha=0.4, label=\"losing\", color='red')\n",
    "\n",
    "plt.show()"
   ]
  },
  {
   "cell_type": "code",
   "execution_count": 20,
   "metadata": {},
   "outputs": [
    {
     "data": {
      "text/plain": [
       "array([ 0. ,  1.1,  2.2,  3.3,  4.4,  5.5,  6.6,  7.7,  8.8,  9.9, 11. ])"
      ]
     },
     "execution_count": 20,
     "metadata": {},
     "output_type": "execute_result"
    }
   ],
   "source": [
    "bins"
   ]
  },
  {
   "cell_type": "code",
   "execution_count": null,
   "metadata": {},
   "outputs": [],
   "source": []
  }
 ],
 "metadata": {
  "kernelspec": {
   "display_name": "Python 3",
   "language": "python",
   "name": "python3"
  },
  "language_info": {
   "codemirror_mode": {
    "name": "ipython",
    "version": 3
   },
   "file_extension": ".py",
   "mimetype": "text/x-python",
   "name": "python",
   "nbconvert_exporter": "python",
   "pygments_lexer": "ipython3",
   "version": "3.7.4"
  },
  "nikola": {
   "category": "",
   "date": "2019-09-13 13:50:01 UTC-04:00",
   "description": "",
   "link": "",
   "slug": "mlb-era",
   "status": "draft",
   "tags": "",
   "title": "Pitcher Wins and Losses",
   "type": "text"
  }
 },
 "nbformat": 4,
 "nbformat_minor": 2
}
