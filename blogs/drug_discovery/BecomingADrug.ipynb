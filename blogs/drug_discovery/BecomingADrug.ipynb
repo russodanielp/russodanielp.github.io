{
 "cells": [
  {
   "cell_type": "markdown",
   "metadata": {},
   "source": [
    "From start to finish, drug discovery is an extremely complicated convoluted process characterized by many compounding factors.  Before an drug can even be considered a candidate for therapy on a disease (i.e., enter clinical trials) it is met first my several hurdles:\n",
    "\n",
    "__1. Target Discovery.__  \n",
    "The first step in developing a chemical therapy for a disease is, of course, characterization of the disease.  This involves intense research into disease pathology.  What are the biomolecular disruptions that cause the adverse effects?  What biomolecules in this pathway could be potential targets for therapy?  Are there assays (_in vitro_ and _in vivo_) that can be developed to screen compounds for possible hits?  \n",
    "\n",
    "__2. Informatics & Functional Genomics.__  \n",
    "Similar to the first step, computer aided applications in the fields of informatics and functional genomics can be used to further aid the precise characterization of disease pathology.  \n",
    "\n",
    "__3. Lead Discovery.__   \n",
    "Once an _in vitro_ assay has been developed for a particular target biolmolecule (usually a protein), technologies like high-throughput screening can use to scan large, diverse chemical libraries of small molecules for potential candidates.  A \"hit\" in this stage usually is a compound that displays only weak efficacy in the _in vitro_ assay, but whose chemical scaffold can be further optimized for increased potency.  These compounds are called [lead compounds](https://en.wikipedia.org/wiki/Lead_compound).\n",
    "\n",
    "__4. Medicinal Chemistry.__   \n",
    "These stage consists of the use of [combinatorial chemistry](https://en.wikipedia.org/wiki/Combinatorial_chemistry) to generate large, structurally similar chemical libraries from the lead compound.  These libraries can then further be screened to identify more potent compounds.  \n",
    "\n",
    "__5. Cellular & Molecular Pharmacology.__  \n",
    "Once highly potent compounds are shown to be effective against a protein target, they need to be validated at the cellular level.  Do the compounds show efficacy in cellular disease models?  That is, is the cellular level mechanism of action inhibited by the compound?\n",
    "\n",
    "__6. Preclinical Development.__   \n",
    "Lastly, before being administered to human subjects, studies must be done to provide dosing and toxicity levels.  This is usually done by a mix of pharmacokinetic (what the body does to the drug), pharmacodynamic (what the drug does to the body), and toxicity (how safe is the drug), studies.  \n",
    "\n",
    "All of these steps are generalized under the umbrella of early-stage drug discovery and preclincal development and are relatively inexpensive enough to be done at the University research level.  However, that's not too say it's an easy task.  Even after a compound displays strong target efficacy, it usually needs further modification at the when it enters preclincal trials.  The optimization of drug-like properties (soluble, but not too soluble, stable, relatively non-toxic) is an amazingly complex endeavor.  Only about 5 drug candidates that enter preclincal trials reach clincal trials. \n",
    "\n",
    "## Clincal Trials ##\n",
    "\n",
    "If you're a drug and you're one of the few that have made it to clinical trials, the road ahead is still not easy.  Clincal trials (studies using human subjects) are required and are done so in three phases.  \n",
    "\n",
    "__1. Phase I - Human Safety.__   \n",
    "The first phase of clinical trials is a small study consisting of 20-100 healthy volunteers and can last several months.  In this stage, basic chemical information can be collected, namely it's toxicity and effects on organs and tissues, absoprtion and metabolism, and various side effects at different dosage levels.  About 70% of drugs move on to Phase II.  \n",
    "\n",
    "__2. Phase II - Efficacy.__  \n",
    "In this stage, general efficacy on several hundred volunteers with the disease in question is determined.  The effectiviness of a drug can be evaluated in a single-blind study of a treatment vs. a control group.  Also, dose efficacy can be evaluated through a range of doses under a toxic threshold.  Short-term side effects are also observed.  This stage can last from several months to 2 years.  Approximately 33% of drugs move to the next phase.  \n",
    "\n",
    "__3. Phase III - Registration.__  \n",
    "The third phase further monitors the efficacy of the drug, this time through several hundered to several thousand volunteers in a double blind study.  Here, longer term side effects are measured and the benefit/risk relationship of a drug is observed.  Most drugs that enter this stage graduate to become FDA-approved drugs.    \n",
    "\n",
    "\n",
    "## The Payoff ##\n",
    "\n",
    "The road to FDA-approval generally takes about ~3 years in the drug discovery/preclincal stage with an added 7-10 years in clinical trials.  This is ususally done at a price tag of $300 million.  However, the payoff can be well worth the time and money.  [Lipitor](https://en.wikipedia.org/wiki/Atorvastatin) is part of the drug class [statins](https://en.wikipedia.org/wiki/Statin) for lowering blood cholesterol.  First synthesized in 1985, by Bruce Roth while working at Parke-Davis Warner-Lambert (now Pfizer).  From 1996 to 2012, sales were greater than 125 billion and was the worlds' best-selling drug to that point. "
   ]
  },
  {
   "cell_type": "markdown",
   "metadata": {},
   "source": [
    "## Case Study: Anti-AIDS Drugs ##\n",
    "\n",
    "The Human immunodeficiency virus (HIV) is a lentivirus that causes acquired immunodeficiency syndrome (AIDS).  After the viral RNA enters the cell, it is reverse-transcribed (using reverse-transcriptase) into double-stranded DNA.  The resulting viral DNA is translocated to the nucleus and integrated into the cell's DNA by virally encoded integrase and cell host co-factors.  Viral proteins exist as polyproteins, which are several tandemly linked proteins.  New virions bud-off from the host cell and HIV-1 protease cleaves the polyproteins allowing the virion to convert from its not-infectious, immature form to its pathogenic form.  There are 4 obvious stages for \"druggable\" targets. \n",
    "\n",
    ">__1. Attachment/Fusion of virion to the host cell__  \n",
    ">__2. The reverse transcription of viral RNA to DNA__  \n",
    ">__3. Integration of viral DNA into host DNA__  \n",
    ">__4. Maturation of virion by HIV-1 protease cleavage__  \n",
    "\n",
    "The first attempt at a successful anti-HIV drug was azidothymidine (AZT).  It looks like this:"
   ]
  },
  {
   "cell_type": "code",
   "execution_count": 6,
   "metadata": {
    "collapsed": false
   },
   "outputs": [
    {
     "data": {
      "image/svg+xml": [
       "<svg baseProfile=\"full\" height=\"200px\" version=\"1.1\" width=\"600px\" xml:space=\"preserve\" xmlns:rdkit=\"http://www.rdkit.org/xml\" xmlns:svg=\"http://www.w3.org/2000/svg\" xmlns:xlink=\"http://www.w3.org/1999/xlink\">\n",
       "<g transform=\"translate(0,0)\"><rect height=\"200\" style=\"opacity:1.0;fill:#FFFFFF;stroke:none\" width=\"200\" x=\"0\" y=\"0\"> </rect>\n",
       "<path d=\"M 68.5517,147.574 67.0938,137.983\" style=\"fill:none;fill-rule:evenodd;stroke:#FF0000;stroke-width:2px;stroke-linecap:butt;stroke-linejoin:miter;stroke-opacity:1\"/>\n",
       "<path d=\"M 67.0938,137.983 65.6358,128.393\" style=\"fill:none;fill-rule:evenodd;stroke:#000000;stroke-width:2px;stroke-linecap:butt;stroke-linejoin:miter;stroke-opacity:1\"/>\n",
       "<path d=\"M 63.9377,148.275 62.4797,138.685\" style=\"fill:none;fill-rule:evenodd;stroke:#FF0000;stroke-width:2px;stroke-linecap:butt;stroke-linejoin:miter;stroke-opacity:1\"/>\n",
       "<path d=\"M 62.4797,138.685 61.0218,129.094\" style=\"fill:none;fill-rule:evenodd;stroke:#000000;stroke-width:2px;stroke-linecap:butt;stroke-linejoin:miter;stroke-opacity:1\"/>\n",
       "<path d=\"M 63.3288,128.743 55.8333,125.813\" style=\"fill:none;fill-rule:evenodd;stroke:#000000;stroke-width:2px;stroke-linecap:butt;stroke-linejoin:miter;stroke-opacity:1\"/>\n",
       "<path d=\"M 55.8333,125.813 48.3378,122.882\" style=\"fill:none;fill-rule:evenodd;stroke:#0000FF;stroke-width:2px;stroke-linecap:butt;stroke-linejoin:miter;stroke-opacity:1\"/>\n",
       "<path d=\"M 63.3288,128.743 70.7562,122.805\" style=\"fill:none;fill-rule:evenodd;stroke:#000000;stroke-width:2px;stroke-linecap:butt;stroke-linejoin:miter;stroke-opacity:1\"/>\n",
       "<path d=\"M 70.7562,122.805 78.1836,116.866\" style=\"fill:none;fill-rule:evenodd;stroke:#0000FF;stroke-width:2px;stroke-linecap:butt;stroke-linejoin:miter;stroke-opacity:1\"/>\n",
       "<path d=\"M 41.0046,116.356 39.5466,106.766\" style=\"fill:none;fill-rule:evenodd;stroke:#0000FF;stroke-width:2px;stroke-linecap:butt;stroke-linejoin:miter;stroke-opacity:1\"/>\n",
       "<path d=\"M 39.5466,106.766 38.0887,97.1754\" style=\"fill:none;fill-rule:evenodd;stroke:#000000;stroke-width:2px;stroke-linecap:butt;stroke-linejoin:miter;stroke-opacity:1\"/>\n",
       "<path d=\"M 38.0887,97.1754 56.3145,82.603\" style=\"fill:none;fill-rule:evenodd;stroke:#000000;stroke-width:2px;stroke-linecap:butt;stroke-linejoin:miter;stroke-opacity:1\"/>\n",
       "<path d=\"M 38.9385,95.0021 29.8882,91.4634\" style=\"fill:none;fill-rule:evenodd;stroke:#000000;stroke-width:2px;stroke-linecap:butt;stroke-linejoin:miter;stroke-opacity:1\"/>\n",
       "<path d=\"M 29.8882,91.4634 20.8379,87.9246\" style=\"fill:none;fill-rule:evenodd;stroke:#FF0000;stroke-width:2px;stroke-linecap:butt;stroke-linejoin:miter;stroke-opacity:1\"/>\n",
       "<path d=\"M 37.2389,99.3487 28.1886,95.8099\" style=\"fill:none;fill-rule:evenodd;stroke:#000000;stroke-width:2px;stroke-linecap:butt;stroke-linejoin:miter;stroke-opacity:1\"/>\n",
       "<path d=\"M 28.1886,95.8099 19.1384,92.2712\" style=\"fill:none;fill-rule:evenodd;stroke:#FF0000;stroke-width:2px;stroke-linecap:butt;stroke-linejoin:miter;stroke-opacity:1\"/>\n",
       "<path d=\"M 56.3145,82.603 52.8073,59.5328\" style=\"fill:none;fill-rule:evenodd;stroke:#000000;stroke-width:2px;stroke-linecap:butt;stroke-linejoin:miter;stroke-opacity:1\"/>\n",
       "<path d=\"M 56.3145,82.603 78.0474,91.1008\" style=\"fill:none;fill-rule:evenodd;stroke:#000000;stroke-width:2px;stroke-linecap:butt;stroke-linejoin:miter;stroke-opacity:1\"/>\n",
       "<path d=\"M 57.8748,88.2243 73.0879,94.1727\" style=\"fill:none;fill-rule:evenodd;stroke:#000000;stroke-width:2px;stroke-linecap:butt;stroke-linejoin:miter;stroke-opacity:1\"/>\n",
       "<path d=\"M 78.0474,91.1008 79.5054,100.691\" style=\"fill:none;fill-rule:evenodd;stroke:#000000;stroke-width:2px;stroke-linecap:butt;stroke-linejoin:miter;stroke-opacity:1\"/>\n",
       "<path d=\"M 79.5054,100.691 80.9633,110.282\" style=\"fill:none;fill-rule:evenodd;stroke:#0000FF;stroke-width:2px;stroke-linecap:butt;stroke-linejoin:miter;stroke-opacity:1\"/>\n",
       "<path d=\"M 84.9255,115.489 94.1065,119.079\" style=\"fill:none;fill-rule:evenodd;stroke:#0000FF;stroke-width:2px;stroke-linecap:butt;stroke-linejoin:miter;stroke-opacity:1\"/>\n",
       "<path d=\"M 94.1065,119.079 103.288,122.669\" style=\"fill:none;fill-rule:evenodd;stroke:#000000;stroke-width:2px;stroke-linecap:butt;stroke-linejoin:miter;stroke-opacity:1\"/>\n",
       "<path d=\"M 103.288,122.669 111.217,127.889\" style=\"fill:none;fill-rule:evenodd;stroke:#000000;stroke-width:2px;stroke-linecap:butt;stroke-linejoin:miter;stroke-opacity:1\"/>\n",
       "<path d=\"M 111.217,127.889 119.146,133.108\" style=\"fill:none;fill-rule:evenodd;stroke:#FF0000;stroke-width:2px;stroke-linecap:butt;stroke-linejoin:miter;stroke-opacity:1\"/>\n",
       "<path d=\"M 103.288,122.669 109.467,100.167\" style=\"fill:none;fill-rule:evenodd;stroke:#000000;stroke-width:2px;stroke-linecap:butt;stroke-linejoin:miter;stroke-opacity:1\"/>\n",
       "<path d=\"M 102.209,124.245 102.624,124.46\" style=\"fill:none;fill-rule:evenodd;stroke:#000000;stroke-width:1px;stroke-linecap:butt;stroke-linejoin:miter;stroke-opacity:1\"/>\n",
       "<path d=\"M 101.131,125.822 101.96,126.251\" style=\"fill:none;fill-rule:evenodd;stroke:#000000;stroke-width:1px;stroke-linecap:butt;stroke-linejoin:miter;stroke-opacity:1\"/>\n",
       "<path d=\"M 100.053,127.398 101.296,128.041\" style=\"fill:none;fill-rule:evenodd;stroke:#000000;stroke-width:1px;stroke-linecap:butt;stroke-linejoin:miter;stroke-opacity:1\"/>\n",
       "<path d=\"M 98.9742,128.974 100.632,129.832\" style=\"fill:none;fill-rule:evenodd;stroke:#000000;stroke-width:1px;stroke-linecap:butt;stroke-linejoin:miter;stroke-opacity:1\"/>\n",
       "<path d=\"M 97.8958,130.551 99.9684,131.623\" style=\"fill:none;fill-rule:evenodd;stroke:#000000;stroke-width:1px;stroke-linecap:butt;stroke-linejoin:miter;stroke-opacity:1\"/>\n",
       "<path d=\"M 96.8175,132.127 99.3046,133.414\" style=\"fill:none;fill-rule:evenodd;stroke:#000000;stroke-width:1px;stroke-linecap:butt;stroke-linejoin:miter;stroke-opacity:1\"/>\n",
       "<path d=\"M 95.7392,133.704 98.6408,135.205\" style=\"fill:none;fill-rule:evenodd;stroke:#000000;stroke-width:1px;stroke-linecap:butt;stroke-linejoin:miter;stroke-opacity:1\"/>\n",
       "<path d=\"M 94.6608,135.28 97.9769,136.996\" style=\"fill:none;fill-rule:evenodd;stroke:#000000;stroke-width:1px;stroke-linecap:butt;stroke-linejoin:miter;stroke-opacity:1\"/>\n",
       "<path d=\"M 93.5825,136.856 97.3131,138.787\" style=\"fill:none;fill-rule:evenodd;stroke:#000000;stroke-width:1px;stroke-linecap:butt;stroke-linejoin:miter;stroke-opacity:1\"/>\n",
       "<path d=\"M 92.5042,138.433 96.6493,140.578\" style=\"fill:none;fill-rule:evenodd;stroke:#000000;stroke-width:1px;stroke-linecap:butt;stroke-linejoin:miter;stroke-opacity:1\"/>\n",
       "<path d=\"M 126.411,132.595 133.708,126.761\" style=\"fill:none;fill-rule:evenodd;stroke:#FF0000;stroke-width:2px;stroke-linecap:butt;stroke-linejoin:miter;stroke-opacity:1\"/>\n",
       "<path d=\"M 133.708,126.761 141.005,120.927\" style=\"fill:none;fill-rule:evenodd;stroke:#000000;stroke-width:2px;stroke-linecap:butt;stroke-linejoin:miter;stroke-opacity:1\"/>\n",
       "<path d=\"M 141.005,120.927 153.592,140.576\" style=\"fill:none;fill-rule:evenodd;stroke:#000000;stroke-width:2px;stroke-linecap:butt;stroke-linejoin:miter;stroke-opacity:1\"/>\n",
       "<path d=\"M 141.005,120.927 132.777,99.0902\" style=\"fill:none;fill-rule:evenodd;stroke:#000000;stroke-width:2px;stroke-linecap:butt;stroke-linejoin:miter;stroke-opacity:1\"/>\n",
       "<path d=\"M 142.858,120.258 142.648,119.841\" style=\"fill:none;fill-rule:evenodd;stroke:#000000;stroke-width:1px;stroke-linecap:butt;stroke-linejoin:miter;stroke-opacity:1\"/>\n",
       "<path d=\"M 144.711,119.59 144.292,118.755\" style=\"fill:none;fill-rule:evenodd;stroke:#000000;stroke-width:1px;stroke-linecap:butt;stroke-linejoin:miter;stroke-opacity:1\"/>\n",
       "<path d=\"M 146.564,118.921 145.936,117.669\" style=\"fill:none;fill-rule:evenodd;stroke:#000000;stroke-width:1px;stroke-linecap:butt;stroke-linejoin:miter;stroke-opacity:1\"/>\n",
       "<path d=\"M 148.418,118.252 147.58,116.583\" style=\"fill:none;fill-rule:evenodd;stroke:#000000;stroke-width:1px;stroke-linecap:butt;stroke-linejoin:miter;stroke-opacity:1\"/>\n",
       "<path d=\"M 150.271,117.583 149.224,115.498\" style=\"fill:none;fill-rule:evenodd;stroke:#000000;stroke-width:1px;stroke-linecap:butt;stroke-linejoin:miter;stroke-opacity:1\"/>\n",
       "<path d=\"M 152.124,116.914 150.868,114.412\" style=\"fill:none;fill-rule:evenodd;stroke:#000000;stroke-width:1px;stroke-linecap:butt;stroke-linejoin:miter;stroke-opacity:1\"/>\n",
       "<path d=\"M 153.977,116.246 152.512,113.326\" style=\"fill:none;fill-rule:evenodd;stroke:#000000;stroke-width:1px;stroke-linecap:butt;stroke-linejoin:miter;stroke-opacity:1\"/>\n",
       "<path d=\"M 155.831,115.577 154.156,112.24\" style=\"fill:none;fill-rule:evenodd;stroke:#000000;stroke-width:1px;stroke-linecap:butt;stroke-linejoin:miter;stroke-opacity:1\"/>\n",
       "<path d=\"M 157.684,114.908 155.8,111.154\" style=\"fill:none;fill-rule:evenodd;stroke:#000000;stroke-width:1px;stroke-linecap:butt;stroke-linejoin:miter;stroke-opacity:1\"/>\n",
       "<path d=\"M 159.537,114.239 157.444,110.068\" style=\"fill:none;fill-rule:evenodd;stroke:#000000;stroke-width:1px;stroke-linecap:butt;stroke-linejoin:miter;stroke-opacity:1\"/>\n",
       "<path d=\"M 153.592,140.576 161.745,140.2\" style=\"fill:none;fill-rule:evenodd;stroke:#000000;stroke-width:2px;stroke-linecap:butt;stroke-linejoin:miter;stroke-opacity:1\"/>\n",
       "<path d=\"M 161.745,140.2 169.899,139.823\" style=\"fill:none;fill-rule:evenodd;stroke:#FF0000;stroke-width:2px;stroke-linecap:butt;stroke-linejoin:miter;stroke-opacity:1\"/>\n",
       "<path d=\"M 132.777,99.0902 142.381,96.5809\" style=\"fill:none;fill-rule:evenodd;stroke:#000000;stroke-width:2px;stroke-linecap:butt;stroke-linejoin:miter;stroke-opacity:1\"/>\n",
       "<path d=\"M 142.381,96.5809 151.984,94.0716\" style=\"fill:none;fill-rule:evenodd;stroke:#0000FF;stroke-width:2px;stroke-linecap:butt;stroke-linejoin:miter;stroke-opacity:1\"/>\n",
       "<path d=\"M 132.777,99.0902 109.467,100.167\" style=\"fill:none;fill-rule:evenodd;stroke:#000000;stroke-width:2px;stroke-linecap:butt;stroke-linejoin:miter;stroke-opacity:1\"/>\n",
       "<path d=\"M 132.777,99.0902 132.169,79.5585 127.554,80.2599 132.777,99.0902\" style=\"fill:#000000;fill-rule:evenoddstroke:#000000;stroke-width:2px;stroke-linecap:butt;stroke-linejoin:miter;stroke-opacity:1\"/>\n",
       "<path d=\"M 156.423,89.3015 160.359,74.9667\" style=\"fill:none;fill-rule:evenodd;stroke:#0000FF;stroke-width:2px;stroke-linecap:butt;stroke-linejoin:miter;stroke-opacity:1\"/>\n",
       "<path d=\"M 152.513,85.9154 155.268,75.881\" style=\"fill:none;fill-rule:evenodd;stroke:#0000FF;stroke-width:2px;stroke-linecap:butt;stroke-linejoin:miter;stroke-opacity:1\"/>\n",
       "<path d=\"M 164.959,67.0284 168.789,53.0825\" style=\"fill:none;fill-rule:evenodd;stroke:#0000FF;stroke-width:2px;stroke-linecap:butt;stroke-linejoin:miter;stroke-opacity:1\"/>\n",
       "<path d=\"M 160.459,65.7925 164.289,51.8466\" style=\"fill:none;fill-rule:evenodd;stroke:#0000FF;stroke-width:2px;stroke-linecap:butt;stroke-linejoin:miter;stroke-opacity:1\"/>\n",
       "<text style=\"font-size:7px;font-style:normal;font-weight:normal;fill-opacity:1;stroke:none;font-family:sans-serif;text-anchor:start;fill:#FF0000\" x=\"63.2035\" y=\"155.703\"><tspan>O</tspan></text>\n",
       "<text style=\"font-size:7px;font-style:normal;font-weight:normal;fill-opacity:1;stroke:none;font-family:sans-serif;text-anchor:start;fill:#0000FF\" x=\"34.8539\" y=\"124.135\"><tspan>NH</tspan></text>\n",
       "<text style=\"font-size:7px;font-style:normal;font-weight:normal;fill-opacity:1;stroke:none;font-family:sans-serif;text-anchor:start;fill:#0000FF\" x=\"78.1836\" y=\"118.06\"><tspan>N</tspan></text>\n",
       "<text style=\"font-size:7px;font-style:normal;font-weight:normal;fill-opacity:1;stroke:none;font-family:sans-serif;text-anchor:start;fill:#FF0000\" x=\"119.146\" y=\"139.389\"><tspan>O</tspan></text>\n",
       "<text style=\"font-size:7px;font-style:normal;font-weight:normal;fill-opacity:1;stroke:none;font-family:sans-serif;text-anchor:start;fill:#FF0000\" x=\"169.899\" y=\"143.389\"><tspan>OH</tspan></text>\n",
       "<text style=\"font-size:7px;font-style:normal;font-weight:normal;fill-opacity:1;stroke:none;font-family:sans-serif;text-anchor:start;fill:#0000FF\" x=\"151.984\" y=\"97.08\"><tspan>N</tspan></text>\n",
       "<text style=\"font-size:7px;font-style:normal;font-weight:normal;fill-opacity:1;stroke:none;font-family:sans-serif;text-anchor:start;fill:#0000FF\" x=\"156.8\" y=\"74.9667\"><tspan>N</tspan><tspan style=\"baseline-shift:super;font-size:5.25px;\">+</tspan><tspan/></text>\n",
       "<text style=\"font-size:7px;font-style:normal;font-weight:normal;fill-opacity:1;stroke:none;font-family:sans-serif;text-anchor:start;fill:#0000FF\" x=\"163.565\" y=\"52.4646\"><tspan>N</tspan><tspan style=\"baseline-shift:super;font-size:5.25px;\">-</tspan><tspan/></text>\n",
       "<text style=\"font-size:7px;font-style:normal;font-weight:normal;fill-opacity:1;stroke:none;font-family:sans-serif;text-anchor:start;fill:#FF0000\" x=\"12.7233\" y=\"92.5668\"><tspan>O</tspan></text>\n",
       "<text style=\"font-size:7px;font-style:normal;font-weight:normal;fill-opacity:1;stroke:none;font-family:sans-serif;text-anchor:start;fill:#000000\" x=\"89.1936\" y=\"147.284\"><tspan>H</tspan></text>\n",
       "<text style=\"font-size:7px;font-style:normal;font-weight:normal;fill-opacity:1;stroke:none;font-family:sans-serif;text-anchor:start;fill:#000000\" x=\"158.491\" y=\"114.352\"><tspan>H</tspan></text>\n",
       "<text style=\"font-size:7px;font-style:normal;font-weight:normal;fill-opacity:1;stroke:none;font-family:sans-serif;text-anchor:start;fill:#000000\" x=\"125.899\" y=\"79.9092\"><tspan>H</tspan></text>\n",
       "<text style=\"font-size:12px;font-style:normal;font-weight:normal;fill-opacity:1;stroke:none;font-family:sans-serif;text-anchor:start;fill:#000000\" x=\"31.5582\" y=\"194\"><tspan>azidothymidine (AZT)</tspan></text>\n",
       "</g>\n",
       "<g transform=\"translate(200,0)\"><rect height=\"200\" style=\"opacity:1.0;fill:#FFFFFF;stroke:none\" width=\"200\" x=\"0\" y=\"0\"> </rect>\n",
       "</g>\n",
       "<g transform=\"translate(400,0)\"><rect height=\"200\" style=\"opacity:1.0;fill:#FFFFFF;stroke:none\" width=\"200\" x=\"0\" y=\"0\"> </rect>\n",
       "</g></svg>"
      ],
      "text/plain": [
       "<IPython.core.display.SVG object>"
      ]
     },
     "execution_count": 6,
     "metadata": {},
     "output_type": "execute_result"
    }
   ],
   "source": [
    "from rdkit import Chem\n",
    "from rdkit.Chem import Draw\n",
    "from IPython.display import SVG\n",
    "\n",
    "azt = Chem.MolFromSmiles('O=C1NC(C(C)=CN1[C@@H]2O[C@H](CO)[C@@H](N=[N+]=[N-])C2)=O')\n",
    "SVG(Draw._MolsToGridSVG([azt], \n",
    "                        legends=['azidothymidine (AZT)']))"
   ]
  },
  {
   "cell_type": "markdown",
   "metadata": {},
   "source": [
    "AZT was originally an unsuccessful anti-cancer drug in 1964, however, it was repurposed as a reverse transcriptase inhibitor and received FDA approval in 1987.  While AZT is effective at slowingly HIV spread, it does not stop it entirely.  This is partially due to its toxicity to bone marrow cells and cannot be taken in large doses.  However, reverse transcriptase is easily mutated and, unlike DNA polymerases, does not correct its mutations.  Eventually, a AZT-resistant mutation is found and AZT becomes ineffective.  \n",
    "\n",
    "As stated before, the HIV-1 polyproteins necessary for maturation of HIV virions are cleaved into their active forms by HIV-1 protease.  HIV-1 protease is part of the aspartic protease family of enzymes named after the essential aspartic acid residues in their active sites.  These proteins are homodimers which come together in a crossiant-shape.  It is in this active site where the polyproteins are cleaved, however, the scissle bonds on the target polypeptides are specific to HIV-1 protease.  Therefore, designing inhibtors to mimick these bonds, but are unreactive, inhibit HIV-1 protease specifically, leaving human aspartic proteases unharmed.  \n",
    "\n",
    "Like AZT, drug-resistance to HIV-1 protease inhibitors eventually ensues.  However, because there have been several successfully developed HIV drugs that attack different viral process, [Highly Active Antiretroviral Therapy (HAART)](https://en.wikipedia.org/wiki/Management_of_HIV/AIDS), the administration of several drugs in a cocktail, has been effective.  When drugs are administered singularly, drug resistance is possible, where a selective pressure ensures that only the drug-resistant, mutated forms survive.  However, cocktails administered concurrently, would ensure mutations resitant to one therapy, to be obliterated by another.   "
   ]
  },
  {
   "cell_type": "markdown",
   "metadata": {},
   "source": [
    "## The Major Challenge of Drug Discovery ##\n",
    "\n",
    "The costs of research and development in drug discovery continue to soar.  At the same time, the number of approved drugs is on the decline.\n",
    "\n",
    ">We’ve set a goal to cut our investment to bring a new medicine to market by one-third by the end of the decade- from about \\$1.2 billion per new molecular entity to $800 million.\n",
    ">- Sidney Taurel, CEO, Eli Lilly & Co., 2005, Annual Report\n",
    "\n",
    "The graduation of chemical from hit to lead to candidate to approved drug is hardly just efficacy, plain and simple.   No, to become a drug a compound can't simply be effective against a target.  It has to also reach that target in humans, and therefor it has to be \"drug-like\".  For a compound to be considered drug-like it needs to have acceptable ADME-Tox properties, which stands for Absorption, Distribution, Metabolism, Excretion, and Toxicology.  What exactly happens when a drug enters the body?  The answer to that question depends a lot on the inherit properties of the molecule itself.  The stages of ADME-Tox can be broken down and explained further.\n",
    "\n",
    "* __Absorption__\n",
    "This is the process involved in the absorption from the the gastrointestinal tract into the bloodstream.  Poor dissolution in stomach bile or failure to penetrate the tissue lining the GI tract are causes for poor absorption. \n",
    "\n",
    "* __Distribution__\n",
    "After in the bloodstream, does the compound reach the tissue of its desired target?  Non-specific protein binding to blood proteins and failure to penetrate the blood-brain barriers are examples of hurdles here.  \n",
    "\n",
    "* __Metabolism__ \n",
    "Compounds are often metabolised by highly non-specific enzymes of the [Cytochrome P450 enzyme family](https://en.wikipedia.org/wiki/Cytochrome_P450).  The metabolites are usually inactive on their target and converted to a polar and more easily excreted form. \n",
    "\n",
    "* __Excretion__ \n",
    "Excretion is the removal of foreign compounds through urine or feces.  \n",
    "\n",
    "These four pathways, collectively called __bioavailablity__ severely affect the ability the efficacy of a drug and therefore are mitigating qualities of a compound often term \"drug-likeness\".  \n",
    "\n",
    "Additionally, __Toxicity__ is the measurement of adverse outcomes of a drug on biological systems as is usually the leading cause for drug attrition.  \n",
    "\n",
    "ADME-Tox properties are extremly difficult to predict and sometimes results in a drug recall.  __Ritonavir__ a HIV-1 protease inhibitor was recalled in 1998 after FDA approval in 1996.  __Ritonavir__ exhibits polymorphism, meaning it can crystallize into different types of crystals.  If not refridgerated, an insoluble crystal forms resulting in a markedly lower bioavailablity and overall less therapeutic version of the drug.  After market removal, the problem was discovered and a new gel capsule requiring refrigeration was unveiled. \n",
    "\n",
    "## The Partition Coefficient ##\n",
    "\n",
    "One of the most important measurements effecting bioavailablity is referred to as the partition coefficient or __LogP__ and is defined as:  \n",
    "\n",
    "$$ logP = log\\bigg[\\frac{[X]_{Oct}}{[X]_{Aq}}\\bigg]$$\n",
    "\n",
    "Where $[X]_{Oct}$ is the concentration of X that is dissolved in the N-Octanol Phase and $[X]_{Aq}$ is the portion dissolved in the Aqueous Phase.  LogP is usually very integral in determining a compound's bioavailability.\n",
    "\n",
    "## The Beginnings of QSAR ##\n",
    "\n",
    "Quantitative Structure-Activity Relationships began with [Corwin Hansch](https://en.wikipedia.org/wiki/Corwin_Hansch) in the 1960's who was the first to show a _quantitatively_ mapped relationship between chemical properties and biological activity.  Let's view this on a plot by considering the following parameters.  $C$ is the concentration required to acheive a specified level of biological function (i.e., EC<sub>50</sub>).  $P$ is the previously mentioned Octanol/Water partition coefficient.  We can plot of a few sample values of each."
   ]
  },
  {
   "cell_type": "code",
   "execution_count": 7,
   "metadata": {
    "collapsed": true
   },
   "outputs": [],
   "source": [
    "% matplotlib inline"
   ]
  },
  {
   "cell_type": "code",
   "execution_count": 20,
   "metadata": {
    "collapsed": false,
    "scrolled": false
   },
   "outputs": [
    {
     "data": {
      "image/png": "[encoded data removed]",
      "text/plain": [
       "<matplotlib.figure.Figure at 0x98dfb70>"
      ]
     },
     "metadata": {},
     "output_type": "display_data"
    }
   ],
   "source": [
    "import math\n",
    "import numpy as np\n",
    "import matplotlib.pyplot as plt\n",
    "\n",
    "# Partition coefficients between 1, 900\n",
    "Ps = np.random.uniform(low=.01, high=10, size=(100,))\n",
    "f = np.vectorize(lambda x: math.log(x))\n",
    "log_Ps = np.random.uniform(low=.01, high=10, size=(100,))\n",
    "\n",
    "\n",
    "# random k1\n",
    "k2 = np.random.uniform(-0.3, 0.3, size=(100,))\n",
    "k1 = 0.4\n",
    "\n",
    "y = k1 * log_Ps + k2\n",
    "\n",
    "plt.scatter(log_Ps, y)\n",
    "plt.show()"
   ]
  },
  {
   "cell_type": "code",
   "execution_count": 19,
   "metadata": {
    "collapsed": false,
    "scrolled": true
   },
   "outputs": [
    {
     "name": "stdout",
     "output_type": "stream",
     "text": [
      "y = 0.1389974590118176x + -0.23431056642037124\n"
     ]
    }
   ],
   "source": [
    "from scipy import stats\n",
    "\n",
    "slope, intercept, r_value, p_value, std_err = stats.linregress(Ps, y)\n",
    "print(\"y = {0}x + {1}\".format(slope, intercept))"
   ]
  },
  {
   "cell_type": "code",
   "execution_count": 10,
   "metadata": {
    "collapsed": false
   },
   "outputs": [
    {
     "data": {
      "text/plain": [
       "-3.0"
      ]
     },
     "execution_count": 10,
     "metadata": {},
     "output_type": "execute_result"
    }
   ],
   "source": [
    "import math\n",
    "math.log10(1/1000)"
   ]
  },
  {
   "cell_type": "markdown",
   "metadata": {},
   "source": [
    "For a small range of compounds we can see that this relationship is somewhat linear and can be described by the following equation.\n",
    " \n",
    "$$log(1/C) = k_1(logP) + k_2 $$\n",
    "\n",
    "However, for larger ranges of LogP, there is a maximal LogP effect and most likely the activity drops. \n",
    "\n",
    "$$log(1/C) = -k_1(logP)^2 + k_2(logP) + k_3 $$"
   ]
  },
  {
   "cell_type": "code",
   "execution_count": 17,
   "metadata": {
    "collapsed": false
   },
   "outputs": [
    {
     "data": {
      "image/png": "[encoded data removed]",
      "text/plain": [
       "<matplotlib.figure.Figure at 0x8849208>"
      ]
     },
     "metadata": {},
     "output_type": "display_data"
    }
   ],
   "source": [
    "\n",
    "xs = np.random.uniform(low=-5, high=5, size=(100,))\n",
    "\n",
    "# random k1\n",
    "k3 = np.random.uniform(-20, 20, size=(100,))\n",
    "k2 = -2\n",
    "k1 = -10\n",
    "\n",
    "ys = k1 * ((xs)*(xs)) + k2 * xs + k3\n",
    "\n",
    "plt.scatter(xs, ys)\n",
    "plt.show() "
   ]
  },
  {
   "cell_type": "code",
   "execution_count": null,
   "metadata": {
    "collapsed": false
   },
   "outputs": [],
   "source": []
  },
  {
   "cell_type": "code",
   "execution_count": null,
   "metadata": {
    "collapsed": true
   },
   "outputs": [],
   "source": []
  }
 ],
 "metadata": {
  "anaconda-cloud": {},
  "kernelspec": {
   "display_name": "Python [conda env:ciipromol]",
   "language": "python",
   "name": "conda-env-ciipromol-py"
  },
  "language_info": {
   "codemirror_mode": {
    "name": "ipython",
    "version": 3
   },
   "file_extension": ".py",
   "mimetype": "text/x-python",
   "name": "python",
   "nbconvert_exporter": "python",
   "pygments_lexer": "ipython3",
   "version": "3.5.2"
  }
 },
 "nbformat": 4,
 "nbformat_minor": 0
}
