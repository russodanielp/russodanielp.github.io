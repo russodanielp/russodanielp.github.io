{
 "cells": [
  {
   "cell_type": "code",
   "execution_count": 4,
   "metadata": {
    "collapsed": true
   },
   "outputs": [],
   "source": [
    "def bernstein_constant(t, i, n):\n",
    "    \"\"\" return the bernstein_constant for a Bezier curve\n",
    "    \n",
    "    t: floating point between [0,1]\n",
    "    i: int between [0,n]\n",
    "    n: number of control points\n",
    "    \"\"\"\n",
    "    import math\n",
    "    term1 = math.factorial(n)/(math.factorial(i)*math.factorial(n-i))\n",
    "    term2 = ((1-t)**(n-i))*(t**i)\n",
    "    return term1*term2\n",
    "\n",
    "def bezier_point(t, control_points):\n",
    "    \"\"\" Return RGB values for a point on a bezier curve given at t given a list of control points\n",
    "    \n",
    "    t: floating point between [0,1]\n",
    "    control_points: list of control points, which should be in three dimensions (R,G,B)\n",
    "    \"\"\"\n",
    "    import numpy as np\n",
    "    control_points = list(map(np.asarray, control_points))\n",
    "    result = [\n",
    "        bernstein_constant(t, i, len(control_points)-1)*pnt for i, pnt in enumerate(control_points)\n",
    "    ]\n",
    "    return [int(sum(pnt)) for pnt in zip(*result)]"
   ]
  },
  {
   "cell_type": "code",
   "execution_count": 5,
   "metadata": {
    "collapsed": true
   },
   "outputs": [],
   "source": [
    "import plotly.plotly as py\n",
    "import plotly.graph_objs as go"
   ]
  },
  {
   "cell_type": "code",
   "execution_count": 6,
   "metadata": {
    "collapsed": false
   },
   "outputs": [
    {
     "data": {
      "text/html": [
       "<iframe id=\"igraph\" scrolling=\"no\" style=\"border:none;\" seamless=\"seamless\" src=\"https://plot.ly/~russodanielp/2.embed\" height=\"525px\" width=\"100%\"></iframe>"
      ],
      "text/plain": [
       "<plotly.tools.PlotlyDisplay object>"
      ]
     },
     "execution_count": 6,
     "metadata": {},
     "output_type": "execute_result"
    }
   ],
   "source": [
    "red = go.Scatter3d(\n",
    "    x=[255],\n",
    "    y=[0],\n",
    "    z=[0],\n",
    "    mode='markers',\n",
    "    marker=dict(\n",
    "        color='rgb(255, 0, 0)',\n",
    "        size=12,\n",
    "        symbol='circle',\n",
    "        line=dict(\n",
    "            color='rgb(255, 0, 0)',\n",
    "            width=1\n",
    "                )\n",
    "        )\n",
    "    )\n",
    "\n",
    "green = go.Scatter3d(\n",
    "    x=[0],\n",
    "    y=[255],\n",
    "    z=[0],\n",
    "    mode='markers',\n",
    "    marker=dict(\n",
    "        color='rgb(0, 255, 0)',\n",
    "        size=12,\n",
    "        symbol='circle',\n",
    "        line=dict(\n",
    "            color='rgb(0, 255, 0)',\n",
    "            width=1\n",
    "                )\n",
    "        )\n",
    "    )\n",
    "\n",
    "blue = go.Scatter3d(\n",
    "    x=[0],\n",
    "    y=[0],\n",
    "    z=[255],\n",
    "    mode='markers',\n",
    "    marker=dict(\n",
    "        color='rgb(0, 0, 255)',\n",
    "        size=12,\n",
    "        symbol='circle',\n",
    "        line=dict(\n",
    "            color='rgb(0, 0, 255)',\n",
    "            width=1\n",
    "                )\n",
    "        )\n",
    "    )\n",
    "\n",
    "\n",
    "fig = go.Figure(data=[red, green, blue])\n",
    "py.iplot(fig, filename='simple-3d-scatter')"
   ]
  },
  {
   "cell_type": "code",
   "execution_count": 8,
   "metadata": {
    "collapsed": false
   },
   "outputs": [],
   "source": [
    "import numpy as np\n",
    "\n",
    "l = np.linspace(0, 1, 100)\n",
    "\n",
    "r = [255, 0, 0]\n",
    "g = [0, 255, 0]\n",
    "b = [0, 0, 255]\n",
    "line = [bezier_point(i, [r, b, g]) for i in l]"
   ]
  },
  {
   "cell_type": "code",
   "execution_count": 9,
   "metadata": {
    "collapsed": true
   },
   "outputs": [],
   "source": [
    "scatter = [go.Scatter3d(\n",
    "        x=l[0],\n",
    "        y=l[1],\n",
    "        z=l[2],    \n",
    "    mode='markers',\n",
    "    marker=dict(\n",
    "        color='rgb({0}, {1}, {2})'.format(l[0], l[1], l[2]),\n",
    "        size=12,\n",
    "        symbol='circle',\n",
    "        line=dict(\n",
    "            color='rgb({0}, {1}, {2})'.format(l[0], l[1], l[2]),\n",
    "            width=1\n",
    "                )\n",
    "        )\n",
    "        )\n",
    "        for l in line\n",
    "          ]"
   ]
  },
  {
   "cell_type": "code",
   "execution_count": 11,
   "metadata": {
    "collapsed": false
   },
   "outputs": [
    {
     "data": {
      "text/html": [
       "<iframe id=\"igraph\" scrolling=\"no\" style=\"border:none;\" seamless=\"seamless\" src=\"https://plot.ly/~russodanielp/2.embed\" height=\"525px\" width=\"100%\"></iframe>"
      ],
      "text/plain": [
       "<plotly.tools.PlotlyDisplay object>"
      ]
     },
     "execution_count": 11,
     "metadata": {},
     "output_type": "execute_result"
    }
   ],
   "source": [
    "fig = go.Figure(data=[red, green, blue] + scatter)\n",
    "py.iplot(fig, filename='simple-3d-scatter')\n"
   ]
  },
  {
   "cell_type": "code",
   "execution_count": null,
   "metadata": {
    "collapsed": true
   },
   "outputs": [],
   "source": [
    "bernstein_constant(1, 0, 2)*np.asarray(b)+bernstein_constant(1, 1, 2)*np.asarray(b)+bernstein_constant(1, 2, 2)*np.asarray(b)"
   ]
  }
 ],
 "metadata": {
  "anaconda-cloud": {},
  "kernelspec": {
   "display_name": "Python [conda env:ciipromol]",
   "language": "python",
   "name": "conda-env-ciipromol-py"
  },
  "language_info": {
   "codemirror_mode": {
    "name": "ipython",
    "version": 3
   },
   "file_extension": ".py",
   "mimetype": "text/x-python",
   "name": "python",
   "nbconvert_exporter": "python",
   "pygments_lexer": "ipython3",
   "version": "3.5.2"
  }
 },
 "nbformat": 4,
 "nbformat_minor": 0
}
